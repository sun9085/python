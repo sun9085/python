{
 "cells": [
  {
   "cell_type": "code",
   "execution_count": null,
   "id": "de38f890",
   "metadata": {},
   "outputs": [],
   "source": [
    "def recursion(a,b):\n",
    "    x=a+b\n",
    "    return(x)\n",
    "recursion(3,7)"
   ]
  },
  {
   "cell_type": "code",
   "execution_count": null,
   "id": "4ce0a27f",
   "metadata": {},
   "outputs": [],
   "source": [
    "def add(a,b):\n",
    "    return(a+b)\n",
    "def sub(a,b):\n",
    "    return(a-b)\n",
    "def mul(a,b):\n",
    "    return(a*b)\n",
    "def div(a,b):\n",
    "    return(a/b)\n",
    "\n",
    "'''\n",
    "print(a.dd)\n",
    "print(b.sub)\n",
    "print(c.mul)\n",
    "print(d.div)\n",
    "'''\n",
    "choice= input(\"enter options(a/b/c/d):\")\n",
    "num1=int(input(\"enter numbner:\"))\n",
    "num2=int(input(\"enter number:\"))\n",
    "if choice=='a':\n",
    "    print(add(num1,num2))\n",
    "elif choice=='b':\n",
    "        print(sub(num1,num2))\n",
    "elif choice=='c':\n",
    "        print(mul(num1,num2))\n",
    "elif choice=='d':\n",
    "        print(div(num1,num2))\n",
    "else:\n",
    "    print(\"enter valid input\")\n"
   ]
  },
  {
   "cell_type": "code",
   "execution_count": null,
   "id": "833d07fb",
   "metadata": {},
   "outputs": [],
   "source": [
    "def recur_fibo(n):  \n",
    "   if n <= 1:  \n",
    "       return n  \n",
    "   else:  \n",
    "       return(recur_fibo(n-1) + recur_fibo(n-2))  \n",
    "# take input from the user  \n",
    "x = int(input(\"How many terms? \"))  \n",
    "# check if the number of terms is valid  \n",
    "if x <= 0:  \n",
    "   print(\"Plese enter a positive integer\")  \n",
    "else:  \n",
    "   print(\"Fibonacci sequence:\")  \n",
    "   for i in range(x):  \n",
    "       print(recur_fibo(i))  "
   ]
  },
  {
   "cell_type": "code",
   "execution_count": 1,
   "id": "30d80748",
   "metadata": {},
   "outputs": [
    {
     "name": "stdout",
     "output_type": "stream",
     "text": [
      "How many terms? 5\n",
      "Fibonacci sequence:\n",
      "0\n",
      "1\n",
      "2\n",
      "3\n",
      "4\n"
     ]
    }
   ],
   "source": [
    "x = int(input(\"How many terms? \"))  \n",
    "# check if the number of terms is valid  \n",
    "if x <= 0:  \n",
    "   print(\"Plese enter a positive integer\")  \n",
    "else:  \n",
    "   print(\"Fibonacci sequence:\")  \n",
    "   for i in range(x):  \n",
    "       print(i)  "
   ]
  },
  {
   "cell_type": "code",
   "execution_count": 11,
   "id": "192afa63",
   "metadata": {},
   "outputs": [
    {
     "data": {
      "text/plain": [
       "['s', 'a', 'k', 'u']"
      ]
     },
     "execution_count": 11,
     "metadata": {},
     "output_type": "execute_result"
    }
   ],
   "source": [
    "def com(w,b):\n",
    "    comn=[]\n",
    "    for i in w:\n",
    "        for i in b:\n",
    "            comn.append(i)\n",
    "        return comn\n",
    "com(\"runny\",'saku')"
   ]
  },
  {
   "cell_type": "code",
   "execution_count": 17,
   "id": "c710b004",
   "metadata": {},
   "outputs": [
    {
     "name": "stdout",
     "output_type": "stream",
     "text": [
      "enter number:6\n",
      "The factorial of 6 is 720\n"
     ]
    }
   ],
   "source": [
    "# Factorial of a number using recursion\n",
    "\n",
    "def recur_factorial(n):\n",
    "   if n == 1:\n",
    "       return n\n",
    "   else:\n",
    "       return n*recur_factorial(n-1)\n",
    "\n",
    "num = int(input(\"enter number:\"))\n",
    "\n",
    "# check if the number is negative\n",
    "if num < 0:\n",
    "   print(\"Sorry, factorial does not exist for negative numbers\")\n",
    "elif num == 0:\n",
    "   print(\"The factorial of 0 is 1\")\n",
    "else:\n",
    "   print(\"The factorial of\", num, \"is\", recur_factorial(num))\n"
   ]
  },
  {
   "cell_type": "code",
   "execution_count": 18,
   "id": "b6c028ce",
   "metadata": {},
   "outputs": [
    {
     "name": "stdout",
     "output_type": "stream",
     "text": [
      "89\n",
      "2\n",
      "5\n",
      "66\n"
     ]
    }
   ],
   "source": [
    "s={2,5,89,66}\n",
    "for i in s:\n",
    "    print(i)"
   ]
  },
  {
   "cell_type": "code",
   "execution_count": 19,
   "id": "02efde49",
   "metadata": {},
   "outputs": [
    {
     "name": "stdout",
     "output_type": "stream",
     "text": [
      "1\n",
      "3\n",
      "5\n"
     ]
    }
   ],
   "source": [
    "for i in range(1,7,2):\n",
    "    print(i)"
   ]
  },
  {
   "cell_type": "code",
   "execution_count": 30,
   "id": "0d1adf55",
   "metadata": {},
   "outputs": [
    {
     "name": "stdout",
     "output_type": "stream",
     "text": [
      "15\n"
     ]
    }
   ],
   "source": [
    "x = lambda a : a + 10\n",
    "print(x(5))"
   ]
  },
  {
   "cell_type": "code",
   "execution_count": 34,
   "id": "f98df341",
   "metadata": {},
   "outputs": [
    {
     "name": "stdout",
     "output_type": "stream",
     "text": [
      "sunnygaikwad\n"
     ]
    }
   ],
   "source": [
    "w=lambda a:\"sunny\"+\"gaikwad\"\n",
    "print(w(\"d\"))"
   ]
  },
  {
   "cell_type": "code",
   "execution_count": 49,
   "id": "ecdadb01",
   "metadata": {},
   "outputs": [
    {
     "name": "stdout",
     "output_type": "stream",
     "text": [
      "[1, 8, 27, 64, 125, 216, 343]\n",
      "()\n"
     ]
    }
   ],
   "source": [
    "l=[1,2,3,4,5,6,7]\n",
    "def cube(n):\n",
    "    return n**3\n",
    "x=map(cube,(l))\n",
    "print(list(x))\n",
    "print(tuple(x))\n",
    "\n"
   ]
  },
  {
   "cell_type": "code",
   "execution_count": 51,
   "id": "22e0b02d",
   "metadata": {},
   "outputs": [
    {
     "name": "stdout",
     "output_type": "stream",
     "text": [
      "3763\n"
     ]
    }
   ],
   "source": [
    "from functools import *\n",
    "def min(a,b):\n",
    "    return a-b\n",
    "list1=[10000,500,544,966,3662,565]\n",
    "x=reduce(min,list1)\n",
    "print(x)\n",
    "\n"
   ]
  },
  {
   "cell_type": "code",
   "execution_count": null,
   "id": "25d8f6bf",
   "metadata": {},
   "outputs": [],
   "source": []
  }
 ],
 "metadata": {
  "kernelspec": {
   "display_name": "Python 3 (ipykernel)",
   "language": "python",
   "name": "python3"
  },
  "language_info": {
   "codemirror_mode": {
    "name": "ipython",
    "version": 3
   },
   "file_extension": ".py",
   "mimetype": "text/x-python",
   "name": "python",
   "nbconvert_exporter": "python",
   "pygments_lexer": "ipython3",
   "version": "3.9.13"
  }
 },
 "nbformat": 4,
 "nbformat_minor": 5
}
