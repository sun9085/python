{
 "cells": [
  {
   "cell_type": "code",
   "execution_count": null,
   "id": "79cae73f",
   "metadata": {},
   "outputs": [],
   "source": [
    "l=[10,20,30,40,50]\n",
    "l.reverse()\n",
    "l"
   ]
  },
  {
   "cell_type": "code",
   "execution_count": null,
   "id": "489e7640",
   "metadata": {},
   "outputs": [],
   "source": [
    "l=[1,2,3,4,4,8,9,11,15,17]\n",
    "for i in (l):\n",
    "    if i%2==0:\n",
    "        print(\"even\",i)\n",
    "    else:\n",
    "        print(\"odd\",i)"
   ]
  },
  {
   "cell_type": "code",
   "execution_count": null,
   "id": "4546b917",
   "metadata": {},
   "outputs": [],
   "source": [
    "l=[1,4,7]\n",
    "a=l[0]\n",
    "print(a)"
   ]
  },
  {
   "cell_type": "code",
   "execution_count": 1,
   "id": "9766e0a9",
   "metadata": {},
   "outputs": [],
   "source": [
    "student=[\"aman\",\"raj\",\"vaibhav\",\"shubham\",\"tushar\"]\n",
    "student.pop()\n",
    "student.insert(0,\"gana\")"
   ]
  },
  {
   "cell_type": "code",
   "execution_count": null,
   "id": "f6a332f4",
   "metadata": {},
   "outputs": [],
   "source": []
  }
 ],
 "metadata": {
  "kernelspec": {
   "display_name": "Python 3 (ipykernel)",
   "language": "python",
   "name": "python3"
  },
  "language_info": {
   "codemirror_mode": {
    "name": "ipython",
    "version": 3
   },
   "file_extension": ".py",
   "mimetype": "text/x-python",
   "name": "python",
   "nbconvert_exporter": "python",
   "pygments_lexer": "ipython3",
   "version": "3.9.13"
  }
 },
 "nbformat": 4,
 "nbformat_minor": 5
}
