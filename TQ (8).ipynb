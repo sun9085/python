{
 "cells": [
  {
   "cell_type": "code",
   "execution_count": null,
   "id": "b954d716",
   "metadata": {},
   "outputs": [],
   "source": [
    "x=5\n",
    "print('Value of x before is',x)\n",
    "x=8\n",
    "print('Value of x after is',x)\n",
    "\n",
    "tuple1=(1,2,3,4,5)\n",
    "tuple2=(2,4,5,6,7)\n",
    "tuple3=tuple1+tuple2\n",
    "print(tuple3)\n",
    "\n",
    "tuple4=tuple3*4\n"
   ]
  },
  {
   "cell_type": "code",
   "execution_count": null,
   "id": "52340558",
   "metadata": {},
   "outputs": [],
   "source": []
  },
  {
   "cell_type": "code",
   "execution_count": null,
   "id": "f1aaddcc",
   "metadata": {},
   "outputs": [],
   "source": [
    "#Python is dynamically typed,Python is general purpose , high level and object oriented,OPEN SOURCE AND PLATFORM INDEPENDENT,\n",
    "#Portable(Mac Os ==>  Windows / vice versa )\n",
    "#interpreted (it runs the code line by line)\n",
    "#compiler( it runs the code once and then display the output)\n",
    "\n",
    "#HTML--> web development\n",
    "#R --> statistical programming (data analysis)\n",
    "\n",
    "#Python --> pygame --> game development\n",
    "#tkinter--> gui\n",
    "#pandas,numpy--> data analysis\n",
    "#django ,flask --> web development \n",
    "\n",
    "#3 types\n",
    "#low level-->basic,pascal\n",
    "#medium level--> c,c++\n",
    "#high level--> python,java,go\n",
    "\n",
    "#syntax is very complex plus time execution is lowest (low level language)\n",
    "#syntax is less complex but time execution increase (medium level language)\n",
    "#syntax is easier but time execution is highest (high level language)\n",
    "\n",
    "#it requires more time to execute\n",
    "\n",
    "#c,c++ --> \n",
    "#python---> libraries is the file containing the functions written in c,c++ language numpy,pandas,re,django,flask,matplotlib\n",
    "#the reason behind it is--> to compensate with the time complexity (lower the time complexity)\n",
    "\n",
    "#time taken to execute a program is time complexity \n",
    "#Big O notation-- log(n)\n",
    "\n",
    "#object oriented -->everything is considered as an object in python\n",
    "\n",
    "#code 10 lines--> broken down into simpler code --> it will be stored as an object\n",
    "def x():\n",
    "    print('Hello world')\n",
    "    \n",
    "\n",
    "#procedural oriented ==> "
   ]
  },
  {
   "cell_type": "code",
   "execution_count": null,
   "id": "eaf2c6e8",
   "metadata": {},
   "outputs": [],
   "source": [
    "x()"
   ]
  },
  {
   "cell_type": "code",
   "execution_count": null,
   "id": "b4c5f7ec",
   "metadata": {},
   "outputs": [],
   "source": [
    "#identifiers\n",
    "#the name given to an entity that differentiates one entity from other \n",
    "#keywords\n",
    "#variables\n",
    "#objects\n",
    "#classes\n",
    "#functions \n",
    "\n",
    "#storage space /storage pattern \n",
    "#objects--> instance of a class\n"
   ]
  },
  {
   "cell_type": "markdown",
   "id": "ee2548bb",
   "metadata": {},
   "source": [
    "# WE ARE ON BREAK WILL CONNECT AT 10:45\n",
    "# ALL ARE BACK??"
   ]
  },
  {
   "cell_type": "code",
   "execution_count": null,
   "id": "4b4a1b98",
   "metadata": {},
   "outputs": [],
   "source": [
    "keyword--> if\n",
    "variable--> x\n",
    "\n",
    "hindi,marathi,english \n",
    "#variable --> something that can change \n",
    "\n",
    "#variable is a temporary storage space\n",
    "#5 things --> market \n",
    "1. go once and then purchase all 5 elements \n",
    "2. go to market and first purchase element 1 and come to me and give element 1 (1 item at a time)"
   ]
  },
  {
   "cell_type": "code",
   "execution_count": null,
   "id": "93db3f2b",
   "metadata": {},
   "outputs": [],
   "source": [
    "x=1\n",
    "print(x)\n",
    "x=2\n",
    "print(x)\n",
    "x=3\n",
    "print(x)\n",
    "x=4\n",
    "print(x)"
   ]
  },
  {
   "cell_type": "code",
   "execution_count": null,
   "id": "cc408f21",
   "metadata": {},
   "outputs": [],
   "source": [
    "name='Sunny'\n",
    "print('The name of student is',name)\n",
    "name='Sunny Gaikwad'\n",
    "print('The name of student after changing is',name)\n",
    "\n",
    "#there are certain color codes given to each set of entity \n",
    "True=6\n"
   ]
  },
  {
   "cell_type": "code",
   "execution_count": null,
   "id": "1b70fc45",
   "metadata": {},
   "outputs": [],
   "source": [
    "def x():\n",
    "    print('Hello')\n",
    "    \n",
    "x()"
   ]
  },
  {
   "cell_type": "code",
   "execution_count": null,
   "id": "9c476e6b",
   "metadata": {},
   "outputs": [],
   "source": [
    "?x=56"
   ]
  },
  {
   "cell_type": "code",
   "execution_count": null,
   "id": "b97ba993",
   "metadata": {},
   "outputs": [],
   "source": [
    "#keywords--> teacher (A person who teaches something)\n",
    "#it is a special word that has reserved meaning \n",
    "if else True False\n",
    "\n",
    "#rules of an identifiers/name of an entity (user defined name)\n",
    "1.Keywords cant be used as an identifier \n",
    "2.Identifier will always start with alphabets\n",
    "3.no special character except for _ can be used in identifier #_ is only special character that is not used as an operator\n",
    "4.Identifer can be alphanumeric \n",
    "\n",
    "\n"
   ]
  },
  {
   "cell_type": "code",
   "execution_count": null,
   "id": "1123e094",
   "metadata": {},
   "outputs": [],
   "source": [
    "name!=\"Devang\""
   ]
  },
  {
   "cell_type": "code",
   "execution_count": null,
   "id": "f1ae2025",
   "metadata": {},
   "outputs": [],
   "source": [
    "!name=\"Devang\""
   ]
  },
  {
   "cell_type": "code",
   "execution_count": null,
   "id": "b314eecc",
   "metadata": {},
   "outputs": [],
   "source": [
    "!name"
   ]
  },
  {
   "cell_type": "code",
   "execution_count": null,
   "id": "8ee8a619",
   "metadata": {},
   "outputs": [],
   "source": [
    "name_1='Devang'\n",
    "name_1"
   ]
  },
  {
   "cell_type": "code",
   "execution_count": null,
   "id": "7cc56fe9",
   "metadata": {},
   "outputs": [],
   "source": [
    "n1_ame=\"Devang\"\n",
    "n1_ame"
   ]
  },
  {
   "cell_type": "code",
   "execution_count": null,
   "id": "268dfaad",
   "metadata": {},
   "outputs": [],
   "source": [
    "1_name=\"Devang\""
   ]
  },
  {
   "cell_type": "code",
   "execution_count": null,
   "id": "1a1ac6e6",
   "metadata": {},
   "outputs": [],
   "source": [
    "print('Hello World')\n",
    "print(5)\n",
    " #print whatever has passed within the bracket"
   ]
  },
  {
   "cell_type": "code",
   "execution_count": null,
   "id": "98ac022a",
   "metadata": {},
   "outputs": [],
   "source": [
    "input #it will take an input from the user\n",
    "x=input('Enter your name')\n",
    "x"
   ]
  },
  {
   "cell_type": "code",
   "execution_count": null,
   "id": "e98e621c",
   "metadata": {},
   "outputs": [],
   "source": [
    "#1 \n",
    "name=#user defined\n",
    "print hello #user defined name #welcome to the course \n"
   ]
  },
  {
   "cell_type": "code",
   "execution_count": null,
   "id": "b3839601",
   "metadata": {},
   "outputs": [],
   "source": [
    "name=input('Enter your name:')\n",
    "print(\"Hello\",name,\"Welcome to the course!\")"
   ]
  },
  {
   "cell_type": "code",
   "execution_count": null,
   "id": "b4ddff53",
   "metadata": {},
   "outputs": [],
   "source": [
    "#numerical data--> int, float,complex\n",
    "#boolean\n",
    "#string"
   ]
  },
  {
   "cell_type": "code",
   "execution_count": null,
   "id": "4985933e",
   "metadata": {},
   "outputs": [],
   "source": [
    "#type #function--> helps us to know the type of data for identifier/variable\n",
    "x=5\n",
    "y=6.4\n",
    "z=5+4j #we define the imaginary part as j in python \n",
    "a=True\n",
    "b=False\n",
    "c=\"print\"\n",
    "\n",
    "print(type(x))\n",
    "print(type(y))\n",
    "print(type(z))\n",
    "print(type(a))\n",
    "print(type(b))\n",
    "print(type(c))\n",
    "\n",
    "d=input('Enter the number') #input will have default data type as str\n",
    "print('The initial data type is',type(d))\n",
    "d=int(d)\n",
    "print(\"The data type after conversion is\",type(d))\n",
    "\n",
    "#type casting--> the process of converting one data type into another "
   ]
  },
  {
   "cell_type": "code",
   "execution_count": null,
   "id": "b56a1ce6",
   "metadata": {},
   "outputs": [],
   "source": [
    "#syntax--> the way a language is written \n",
    "\n",
    "#Syntax\n",
    "#Data types\n",
    "#Conditional Statements\n",
    "#Looping Statements\n",
    "#Data Structures\n",
    "#Functions\n",
    "#File handling\n",
    "#OOPS\n",
    "\n",
    "\n",
    "#Take an int as an input from the user and convert it into float\n",
    "num=int(input('Enter a number'))\n",
    "print('The original value is',num)\n",
    "num=float(num)\n",
    "print('The converted value is',num)"
   ]
  },
  {
   "cell_type": "code",
   "execution_count": null,
   "id": "b60c1418",
   "metadata": {},
   "outputs": [],
   "source": [
    "num=float(input(\"Enter the num:\"))\n",
    "print(num)"
   ]
  },
  {
   "cell_type": "code",
   "execution_count": null,
   "id": "b5e01f5c",
   "metadata": {},
   "outputs": [],
   "source": [
    "#Operator --> numerical operations /add,subtraction,div,...arithmetic operations\n",
    "#operator==> special symbol that is used to perform an operation on 2 or more operands \n",
    "#--> this is a comment \n",
    "\n",
    "#types\n",
    "logical operator(AND,OR,NOT)\n",
    "bitwise(&,|,~,right shift,left shift)\n",
    "membership(in,not in)\n",
    "arithmetic==> mathematical operation--> +,-,*,/,%,**,//\n",
    "assignment-->=,(arithmetic+=)\n",
    "identity--> (is , not is)\n",
    "comparison (>,<,==,<=,>=,!=)\n"
   ]
  },
  {
   "cell_type": "code",
   "execution_count": null,
   "id": "47e01395",
   "metadata": {},
   "outputs": [],
   "source": [
    "#rad= \n",
    "#print--> area of circle \n",
    "rad=int(input('Enter the radius'))\n",
    "area=(3.14)*(rad**2)\n",
    "print('The area of circle with radius ',rad,\"is\",area)"
   ]
  },
  {
   "cell_type": "code",
   "execution_count": null,
   "id": "42dcb5b0",
   "metadata": {},
   "outputs": [],
   "source": [
    "#Gross salary\n",
    "#name\n",
    "#e_id\n",
    "#basic \n",
    "#hra=20% of basic\n",
    "#dra=30% of basic \n",
    "#gross=basic+hra+dra \n",
    "#print(gross )\n",
    "\n",
    "name=input('Enter your name:')\n",
    "e_id=int(input('Enter your employee id:'))\n",
    "basic=int(input('Enter your basic salary:'))\n",
    "print('Thanks for Providing your valuable information!')\n",
    "hra=0.2*basic\n",
    "dra=0.3*basic\n",
    "gross=basic+hra+dra\n",
    "print('Your information is processed!')\n",
    "print('The Gross Salary of',name,\"with employee id\",e_id,\"is\",gross)"
   ]
  },
  {
   "cell_type": "code",
   "execution_count": null,
   "id": "eef06fa5",
   "metadata": {},
   "outputs": [],
   "source": [
    "#banking \n",
    "#name(name of acc_holder)\n",
    "#hey name welcome to the bank\n",
    "#may i have your acc\n",
    "#acc_no\n",
    "#acc_bal=50000\n",
    "#bal_added =-\n",
    "#bal after transaction=\n",
    "#balance after transaction is =\n",
    "\n",
    "print('Welcome to XYZ Bank')\n",
    "name=input('May i have your name?:')\n",
    "print('Hey',name,\"Welcome to XYZ Bank\")\n",
    "acc_no=int(input('May i have your acc number?:'))\n",
    "acc_bal=int(input('Please enter your acc balance'))\n",
    "bal_added=int(input('Enter the amount needed to be added:'))\n",
    "final=acc_bal+bal_added\n",
    "print('Thanks for choosing XYZ Bank !')\n",
    "print('Your transaction is completed',final,'is the updated balance')"
   ]
  },
  {
   "cell_type": "markdown",
   "id": "5b65f73c",
   "metadata": {},
   "source": [
    "# We will meet at 11.00 am\n",
    "\n"
   ]
  },
  {
   "cell_type": "code",
   "execution_count": null,
   "id": "862f6c17",
   "metadata": {},
   "outputs": [],
   "source": [
    "#Conditional Statements\n",
    "#identation is the use of : and 4 spaces/1 tab to split 2 blocks of codes\n",
    "#loops,functions,conditional statements,class\n",
    "marks=int(input('Enter the marks:'))\n",
    "if marks>35:#marks value is greater than 35\n",
    "    print('Congratulations you have passed!') #this action will be executed"
   ]
  },
  {
   "cell_type": "code",
   "execution_count": null,
   "id": "00ad6b8a",
   "metadata": {},
   "outputs": [],
   "source": [
    "#4 types of conditional statements\n",
    "#if--> one condition is executed\n",
    "#if else--> 2 condition are been taken care of "
   ]
  },
  {
   "cell_type": "code",
   "execution_count": null,
   "id": "8db0a4fe",
   "metadata": {},
   "outputs": [],
   "source": [
    "x=int(input('Enter a value:'))#34 #123\n",
    "if x%2==0:#34%2==0 #123%2==0 -> false \n",
    "    print(x,'is even')#this is executed\n",
    "else:\n",
    "    print(x,'is odd') #this will execute"
   ]
  },
  {
   "cell_type": "code",
   "execution_count": null,
   "id": "e84feb76",
   "metadata": {},
   "outputs": [],
   "source": [
    "#elif --> else if \n",
    "x=int(input('Enter a value:')) #x=5 #X=2,0\n",
    "if x>=0: #5>0 #true/false 2>0 #TRUE #False\n",
    "    print('X is positive') #will be executed\n",
    "elif x==0: #if condition is false , check this condition,true 0==0:--> true\n",
    "    print('X is zero') # will be executed\n",
    "else:\n",
    "    print('X is negative') #if both conditions are false then this will be executed"
   ]
  },
  {
   "cell_type": "code",
   "execution_count": null,
   "id": "c57a47f3",
   "metadata": {},
   "outputs": [],
   "source": [
    "marks=int(input('Enter your marks:'))\n",
    "90+ --> A\n",
    "75+--> B\n",
    "60-75-> C\n",
    "60 BELOW--> D \n",
    "35 below--> F"
   ]
  },
  {
   "cell_type": "code",
   "execution_count": null,
   "id": "23513dc4",
   "metadata": {},
   "outputs": [],
   "source": [
    "IF-->1\n",
    "ELSE--> 1\n",
    "ELIF--> (N-2)"
   ]
  },
  {
   "cell_type": "code",
   "execution_count": null,
   "id": "b2990085",
   "metadata": {},
   "outputs": [],
   "source": [
    "marks=int(input('Enter your marks:'))\n",
    "if marks>=90:\n",
    "    print('Grade A')\n",
    "elif marks>=75:\n",
    "    print('Grade B')\n",
    "elif marks>=60:\n",
    "    print('Grade C')\n",
    "elif marks>=35:\n",
    "    print('Grade D')\n",
    "else:\n",
    "    print('Grade F')"
   ]
  },
  {
   "cell_type": "code",
   "execution_count": null,
   "id": "4dd4cfaa",
   "metadata": {},
   "outputs": [],
   "source": [
    "#Simple calculator \n",
    "+,-,*,/\n"
   ]
  },
  {
   "cell_type": "code",
   "execution_count": null,
   "id": "a582899f",
   "metadata": {},
   "outputs": [],
   "source": []
  },
  {
   "cell_type": "code",
   "execution_count": null,
   "id": "e96b88de",
   "metadata": {},
   "outputs": [],
   "source": [
    "#NESTED IF \n",
    "marks=int(input('Enter your marks:')) #65\n",
    "if marks>=35:#if this is true\n",
    "    print('Congratulation you have passed') #this is executed\n",
    "    if marks>=90:\n",
    "        print('Grade A')\n",
    "    elif marks>=75:\n",
    "        print('Grade B')\n",
    "    elif marks>=60:\n",
    "        print('Grade C')\n",
    "    else:\n",
    "        print('Grade D')\n",
    "else:\n",
    "    print('Hard Luck! You failed!')\n",
    "    "
   ]
  },
  {
   "cell_type": "code",
   "execution_count": null,
   "id": "8ee384f3",
   "metadata": {},
   "outputs": [],
   "source": [
    "#nested if vs elif\n",
    "#1.Execution\n",
    "#2.Time taken\n",
    "#3.Use case\n",
    "\n",
    "#Nested if                                                        Elif\n",
    "#1.the condition executes when the above if condition is True    #1.the condition executes when the above if condition is False\n",
    "#2.Nested if takes more time                                     #2.Elif takes lesser time \n",
    "#3.Used when we have to check a condition within if              #3.We have to check the condition outside if\n"
   ]
  },
  {
   "cell_type": "code",
   "execution_count": null,
   "id": "99ae26d3",
   "metadata": {},
   "outputs": [],
   "source": [
    "#Looping Statements\n",
    "#Control Statements "
   ]
  },
  {
   "cell_type": "code",
   "execution_count": null,
   "id": "2c358894",
   "metadata": {},
   "outputs": [],
   "source": [
    "#Banking Problem with if else\n",
    "print('Welcome to XYZ Bank')\n",
    "name=input('May i have your name?:')\n",
    "print('Hey',name,\"Welcome to XYZ Bank\")\n",
    "acc_no=int(input('May i have your acc number?:'))\n",
    "acc_bal=int(input('Please enter your acc balance'))\n",
    "choice=int(input('Enter 1 for Credit and 2 for Debit'))\n",
    "amount=int(input('Enter the amount needed to be added:'))\n",
    "if choice==1:\n",
    "    final_bal=acc_bal+amount\n",
    "else:\n",
    "    final_bal=acc_bal-amount\n",
    "\n",
    "print('Thanks for choosing XYZ Bank !') \n",
    "print('Your transaction is completed',final_bal,'is the updated balance')\n",
    "\n",
    "#voting right\n",
    "#age \n",
    "#age>=18:\n",
    "#nationality:indian \n",
    "#print('You are eligible for voting')\n",
    "#nationality:not indian \n",
    "#location:india \n",
    "#how many years you have been staying?\n",
    "#5+ \n",
    "#you are eligible for voting\n",
    "#you are not eligible for voting "
   ]
  },
  {
   "cell_type": "code",
   "execution_count": null,
   "id": "e9189d3a",
   "metadata": {},
   "outputs": [],
   "source": [
    "age=int(input('May i know your age?'))\n",
    "if age>=18:\n",
    "    nationality=input('Enter your nationality:')\n",
    "    if (nationality==\"Indian\" or nationality==\"indian\"):\n",
    "        print('Congratulations!You are eligible for voting')\n",
    "    else:\n",
    "        y=input('Enter your location?')\n",
    "        if (y==\"India\" or y==\"india\"):\n",
    "            years=int(input('How many years you had been staying in india?:'))\n",
    "            if years>=5:\n",
    "                print('Congratulations you are eligible for voting')\n",
    "            else:\n",
    "                print('You are not eligible for voting')\n",
    "        else:\n",
    "            print('You are not eligible for voting')\n",
    "else:\n",
    "    print('I am sorry you are not eligible for voting')"
   ]
  },
  {
   "cell_type": "code",
   "execution_count": null,
   "id": "3a584e9e",
   "metadata": {},
   "outputs": [],
   "source": [
    "#Looping Statements==> They are statements used to execute repititive actions\n",
    "l1=[1,2,3,4,5,6,7,8,9,10]\n",
    "\n",
    "x=int(input('Enter a number'))\n",
    "if x%2==0:\n",
    "    print('X is even')\n",
    "else:\n",
    "    print('X is odd')"
   ]
  },
  {
   "cell_type": "code",
   "execution_count": null,
   "id": "ff9a0cf7",
   "metadata": {},
   "outputs": [],
   "source": [
    "l1=[1,2,3,4,5,6,7,8,9,10]\n",
    "for i in l1:\n",
    "    if i%2==0:\n",
    "        print(i,\"is even\")\n",
    "    else:\n",
    "        print(i,\"is odd\")\n",
    "#imp question\n",
    "#for loop doesnt requires increment whereas while loop requires increment \n",
    "#while loop requires condition whereas for loop needs an iterable\n",
    "#initialization is required in while loop whereas initialization is not required in for loop \n",
    "#no of iterations is not known in while loop whereas no of iterations is known in for loop "
   ]
  },
  {
   "cell_type": "code",
   "execution_count": 2,
   "id": "bbe41cb8",
   "metadata": {},
   "outputs": [
    {
     "name": "stdout",
     "output_type": "stream",
     "text": [
      "The odd numbers are:\n",
      "1\n",
      "3\n",
      "5\n",
      "7\n",
      "9\n",
      "The even numbers are:\n",
      "2\n",
      "4\n",
      "6\n",
      "8\n",
      "10\n"
     ]
    }
   ],
   "source": [
    "i=1\n",
    "odd=[]\n",
    "even=[]\n",
    "while i<11:\n",
    "    if i%2==0:\n",
    "        even.append(i)\n",
    "    else:\n",
    "        odd.append(i)\n",
    "    i+=1\n",
    "    \n",
    "print('The odd numbers are:')\n",
    "for i in odd:\n",
    "    print(i)\n",
    "\n",
    "print('The even numbers are:')\n",
    "for j in even:\n",
    "    print(j)"
   ]
  },
  {
   "cell_type": "code",
   "execution_count": null,
   "id": "27ea8b1b",
   "metadata": {},
   "outputs": [],
   "source": [
    "#for loop\n",
    "#while loop \n",
    "#nested loop"
   ]
  },
  {
   "cell_type": "markdown",
   "id": "2adc8ce0",
   "metadata": {},
   "source": [
    "# We will be back at 11.05"
   ]
  },
  {
   "cell_type": "code",
   "execution_count": null,
   "id": "64164599",
   "metadata": {},
   "outputs": [],
   "source": [
    "#Average number of first n natural numbers\n",
    "sum=0\n",
    "n=int(input('Total no of values you want to enter:'))\n",
    "for i in range(1,2*n,2):#[1,2,3,4,5,6,7,last no-1,n]\n",
    "    print(i)\n",
    "    sum+=i\n",
    "    \n",
    "average=sum/n\n",
    "print(sum)\n",
    "print('Average of first n odd numbers is',average)\n"
   ]
  },
  {
   "cell_type": "code",
   "execution_count": null,
   "id": "0123f34f",
   "metadata": {},
   "outputs": [],
   "source": [
    "for i in range(5):#[0,1,2,3,4]\n",
    "    print(i)"
   ]
  },
  {
   "cell_type": "code",
   "execution_count": null,
   "id": "0a5befbc",
   "metadata": {},
   "outputs": [],
   "source": [
    "#for loop \n",
    "l2=[]\n",
    "num1=int(input('Enter no of iterations'))\n",
    "for i in range(num1):#[0,1,2] [0][1] [2] range(3)\n",
    "    num=int(input())#10,20,30\n",
    "    l2.append(num)#append will add the value at last place in list\n",
    "#[10,20,30]\n",
    "print(l2)\n",
    "sum1=0\n",
    "for j in l2:#[10,20,30]\n",
    "    sum1+=j\n",
    "    #sum1=10+20+30\n",
    "\n",
    "print(sum1)\n",
    "print(num1)\n",
    "average1=sum1/num1\n",
    "print('Average of the numbers is',average1)"
   ]
  },
  {
   "cell_type": "code",
   "execution_count": null,
   "id": "19d6e133",
   "metadata": {},
   "outputs": [],
   "source": [
    "#WHILE\n",
    "n=int(input('Enter no of iterations:')) #3\n",
    "count=0\n",
    "sum1=0\n",
    "while count<n:#COUNT<3 0,1,2 [0][1]\n",
    "    num=int(input('Enter the value')) #10 20 30\n",
    "    sum1+=num #10+20+30\n",
    "    count+=1 #1+1+1\n",
    "    \n",
    "average=sum1/n #10+20+30/3\n",
    "print('Average is ',average)"
   ]
  },
  {
   "cell_type": "code",
   "execution_count": null,
   "id": "d0a13080",
   "metadata": {},
   "outputs": [],
   "source": [
    "#FACTORIAL \n",
    "num=int(input('Enter the number for which we want to have factorial:'))\n",
    "fact=1\n",
    "for i in range(1,num+1):#[1,2,3,4,5,6]\n",
    "    fact=fact*i\n",
    "    \n",
    "print(fact)"
   ]
  },
  {
   "cell_type": "code",
   "execution_count": null,
   "id": "edc61fe0",
   "metadata": {},
   "outputs": [],
   "source": [
    "num=int(input('Enter the number:'))\n",
    "fact=1\n",
    "count=1\n",
    "\n",
    "while count<num+1:#1<7,2<7,3<7\n",
    "    fact=fact*count#1*1*2*3\n",
    "    count+=1#2#3#4\n",
    "    \n",
    "print(fact)"
   ]
  },
  {
   "cell_type": "code",
   "execution_count": null,
   "id": "be704b73",
   "metadata": {},
   "outputs": [],
   "source": [
    "#num=int(input()) #100\n",
    "#10 #error \n",
    "\n"
   ]
  },
  {
   "cell_type": "code",
   "execution_count": null,
   "id": "8486e048",
   "metadata": {},
   "outputs": [],
   "source": [
    "#control statements--> controls the flow of the loop\n",
    "#break,continue,pass\n",
    "for i in range(1,51):\n",
    "    if i==25:\n",
    "        break\n",
    "    print(i)\n",
    "    #it ended the loop abruptly "
   ]
  },
  {
   "cell_type": "code",
   "execution_count": null,
   "id": "27c6f09c",
   "metadata": {},
   "outputs": [],
   "source": [
    "for i in range(1,51):\n",
    "    if i%5==0:#[1,2,3,4,6,7,8,9,11,12,13,14,16,17,18,19]\n",
    "        continue\n",
    "    print(i)"
   ]
  },
  {
   "cell_type": "code",
   "execution_count": null,
   "id": "cfde80af",
   "metadata": {},
   "outputs": [],
   "source": [
    "for i in range(1,51):\n",
    "    print(i)#action statement\n",
    "    if i%5==0:#[1,2,3,4,6,7,8,9,11,12,13,14,16,17,18,19]\n",
    "        continue\n",
    "    \n",
    "#continue --> action statement will come at last \n",
    "#break--> it can come at first and at last "
   ]
  },
  {
   "cell_type": "code",
   "execution_count": null,
   "id": "02500aae",
   "metadata": {},
   "outputs": [],
   "source": [
    "for i in range(1,101):\n",
    "    if i%10==0:\n",
    "        continue\n",
    "    print(i)\n",
    "    \n",
    "    \n",
    "for i in range(1,101):\n",
    "    print(i)\n",
    "    if i%10==0:\n",
    "        break\n",
    "   "
   ]
  },
  {
   "cell_type": "code",
   "execution_count": null,
   "id": "2e4f7836",
   "metadata": {},
   "outputs": [],
   "source": [
    "for i in range(1,100):\n",
    "    pass "
   ]
  },
  {
   "cell_type": "code",
   "execution_count": null,
   "id": "730e4366",
   "metadata": {},
   "outputs": [],
   "source": [
    "#n=int(input())\n",
    "#num=int(input())\n",
    "#0--> end loop \n",
    "#average \n",
    "\n",
    "n=int(input('Enter no of iteration:')) #enter no of iteration:\n",
    "count=0\n",
    "sum=0\n",
    "while count<n:#0<n\n",
    "    num=int(input('Enter a value'))\n",
    "    if num==0:\n",
    "        break\n",
    "    else:\n",
    "        sum+=num\n",
    "        count+=1\n",
    "        \n",
    "average=sum/count\n",
    "print(average)"
   ]
  },
  {
   "cell_type": "code",
   "execution_count": null,
   "id": "d949ce52",
   "metadata": {},
   "outputs": [],
   "source": [
    "#Data Types vs Data Structures\n",
    "#1.Data type will hold a single value\n",
    "#Data structure will hold multiple value\n",
    "\n",
    "#2.Data type will have only one data type \n",
    "#Data Structures will have many different data types in one structure\n",
    "\n"
   ]
  },
  {
   "cell_type": "code",
   "execution_count": null,
   "id": "db34a6cd",
   "metadata": {},
   "outputs": [],
   "source": [
    "items=[\"bread\",\"Sugar\",\"Book\"]\n",
    "items.append('Flour')\n",
    "items.append('Coffee')\n",
    "items[2]=\"Booklet\"\n",
    "items.pop(0)\n",
    "items.append(\"Coffee\")\n",
    "items.append(5)\n",
    "items\n",
    "\n",
    "items[-1]=\"5 Star\"\n",
    "items\n",
    "#flexible "
   ]
  },
  {
   "cell_type": "code",
   "execution_count": null,
   "id": "f260455e",
   "metadata": {},
   "outputs": [],
   "source": [
    "\n",
    "password=(\"x\",\"t\",\"t\",\"q\",3,5,4,5)\n",
    "#tuple is immutable(not changable)\n",
    "#tuple is ordered\n",
    "password[4]\n",
    "\n",
    "#list vs tuple \n",
    "#list is changable whereas tuple is unchangable\n",
    "#tuple is faster than list \n",
    "#[] and ()\n",
    "\n",
    "set1={1,2,3,4,4,3,4,2,4,24,2,4,2,3,4}\n",
    "set1 #set doesnt contains duplicates \n",
    "set1={234,1,3,12,1213,45,12,4,4,24,24,24,21,4,5,26,326,32,156,2,1}\n",
    "set1 #the elements gets arranged in a specific order #accessing numbers is not possible #unordered\n",
    "# set is defined using curly brackets {}\n",
    "set1.pop() #remove the last element from the data \n",
    " #set is mutable / changable \n",
    "set1.pop() #it will remove any random no out of set\n",
    "set1.pop()\n",
    "#set1[5]\n",
    "#slicing\n",
    "#indexing\n",
    "\n",
    "list1=[15,13,5,20,16,14,14,16,14,16,17,18,14,12,1,6,9]\n",
    "       #0   1 2 3  4  5  6   7  8  9 10 11 12 13 141516\n",
    "    \n",
    "list1[6]\n",
    "#indexing is numbering given to an element in a seq\n",
    "\n",
    "#slicing is accessing multiple elements in a seq\n",
    "\n",
    "list1[6:]\n",
    "\n",
    "dict1={1:15,2:13,3:20,4:15,5:12,6:20,6:18,7:16,8:15,8:18,9:20,10:15,\"Eleven\":25}\n",
    "dict1\n",
    "#keys cant be duplicate \n",
    "#value are duplicate \n",
    "dict1[4]\n",
    "dict1\n",
    "#elements can be accessed using keys \n",
    "#dictionary is set of key and value pairs , in which values can be accessed using key, it is ordered wrt keys and it can contain duplicate values \n",
    "dict1.keys()#--> # return the key\n",
    "dict1.values()#--> #return the values\n",
    "dict1.items()#it is a collection of key and value pairs \n",
    "dict1[\"Eleven\"]=19\n",
    "dict1"
   ]
  },
  {
   "cell_type": "code",
   "execution_count": null,
   "id": "a28fd1ee",
   "metadata": {},
   "outputs": [],
   "source": [
    "#Data Structure will be of 4 types\n",
    "#Mutable--> Changable or one that has ability to change \n",
    "#Ordered--> Those elements for which we can give numbering\n",
    "#Duplicates--> \n",
    "#Heterogenous--> ability to have multiple different data types\n",
    "\n",
    "#Mutable--> List,Set,Dictionary\n",
    "#Ordered--> list,tuple and dictionary can be ordered but only through keys\n",
    "\n",
    "#1.List-->List is changable,ordered,allows duplicates and it is heterogenous data structures which is created using a square bracket\n",
    "\n",
    "#2.Tuple-->Tuple is immutable,ordered,heterogenous ,allows duplicates and it is created using ()\n",
    "\n",
    "#3.Set--> set is mutable,unordered,heterogenous,doesnt allows duplicates and it is created using {}\n",
    "#4.Dictionary--> #dictionary is set of key and value pairs , in which values can be accessed using key, it is ordered wrt keys and it can contain duplicate values and is mutable \n"
   ]
  },
  {
   "cell_type": "code",
   "execution_count": null,
   "id": "c9fa397a",
   "metadata": {},
   "outputs": [],
   "source": [
    "#11:35\n",
    "list1.append(4)\n",
    "list1"
   ]
  },
  {
   "cell_type": "code",
   "execution_count": null,
   "id": "b25fd107",
   "metadata": {},
   "outputs": [],
   "source": [
    "list1.append([10,15,20])\n",
    "list1\n",
    "\n",
    "list1.extend([10,15,20])"
   ]
  },
  {
   "cell_type": "code",
   "execution_count": null,
   "id": "ef29214d",
   "metadata": {},
   "outputs": [],
   "source": [
    "list1"
   ]
  },
  {
   "cell_type": "code",
   "execution_count": null,
   "id": "0fc70eff",
   "metadata": {},
   "outputs": [],
   "source": [
    "#append will add a list as a single element \n",
    "#extend will add list as multiple elements \n"
   ]
  },
  {
   "cell_type": "code",
   "execution_count": null,
   "id": "9c35a876",
   "metadata": {},
   "outputs": [],
   "source": [
    "##11:35\n",
    "#while / for loop \n",
    "#if else \n",
    "#list\n",
    "#break\n",
    "\n",
    "#n--> no of the students\n",
    "#marks -->\n",
    "#if marks are greater than 35 then add them into pass list \n",
    "#else add them into failed list \n",
    "#if marks <=0\n",
    "#break\n",
    "\n",
    "#count of students who have passed \n",
    "#marks of students \n",
    "\n",
    "\n"
   ]
  },
  {
   "cell_type": "code",
   "execution_count": null,
   "id": "f8d03a07",
   "metadata": {},
   "outputs": [],
   "source": [
    "n=int(input('Enter the total no of students'))\n",
    "count=0\n",
    "passed=[]\n",
    "failed=[]\n",
    "while count<n:#0,1,2,3,4,5,6,7 \n",
    "    marks=int(input())\n",
    "    if marks<=0:\n",
    "        break\n",
    "    elif marks<35:\n",
    "        failed.append(marks)\n",
    "    else:\n",
    "        passed.append(marks)\n",
    "    count+=1\n",
    "    \n",
    "print('Those students who have passed are have marks as follow and count is',len(passed))        \n",
    "print(passed)\n",
    "        "
   ]
  },
  {
   "cell_type": "code",
   "execution_count": null,
   "id": "46647597",
   "metadata": {},
   "outputs": [],
   "source": [
    "#budget problem \n",
    "#limit=5000\n",
    "#expend=[]\n",
    "#6--> 4800\n",
    "#5100\n",
    "#5000\n",
    "#am1=500,245\n",
    "#sum=\n"
   ]
  },
  {
   "cell_type": "code",
   "execution_count": null,
   "id": "cd910cb5",
   "metadata": {},
   "outputs": [],
   "source": [
    "limit=int(input('Enter your credit limit:'))\n",
    "expend=[]\n",
    "sum=0\n",
    "while sum<limit:\n",
    "    amount=int(input('Enter the amount'))\n",
    "    if amount<=0:\n",
    "        break \n",
    "    else:\n",
    "        sum+=amount\n",
    "        expend.append(amount)\n",
    "        \n",
    "print('Total amount is',sum)\n",
    "print('The purchase made is',expend)\n",
    "print('The amount left is',(limit-sum))\n",
    "\n",
    "\n"
   ]
  },
  {
   "cell_type": "code",
   "execution_count": null,
   "id": "70c62995",
   "metadata": {},
   "outputs": [],
   "source": [
    "#password \n",
    "#len greater or equal to 8 \n",
    "#Atleast 1 digit ,1 upper case and 1 lower case \n",
    "password=input('Enter a password') #password@134SD\n",
    "digit=[]\n",
    "upper=[]\n",
    "lower=[]\n",
    "special=[]\n",
    "space=[]\n",
    "x=password.split()\n",
    "print(x)\n",
    "for letter in password:\n",
    "    if letter.isdigit():\n",
    "        digit.append(letter)\n",
    "    elif letter.isupper():\n",
    "        upper.append(letter)\n",
    "    elif letter.islower():\n",
    "        lower.append(letter)\n",
    "    elif letter.isspace():\n",
    "        space.append(letter)\n",
    "    else:\n",
    "        special.append(letter)\n",
    "        \n",
    "if (len(digit)>=1 and len(upper)>=1 and len(lower)>=1 and len(space)==0 and len(special)>=1 and len(password)>=8):\n",
    "    print('It is a good password')\n",
    "else:\n",
    "    print('It is not a good password')\n",
    "    if len(digit)==0:\n",
    "        print('Please enter a digit')\n",
    "    if len(upper)==0:\n",
    "        print('Please enter an upper case')\n",
    "    if len(password)<8:\n",
    "        print('Please enter a password of length 8 or over 8')\n",
    "\n"
   ]
  },
  {
   "cell_type": "code",
   "execution_count": null,
   "id": "f8b43630",
   "metadata": {},
   "outputs": [],
   "source": [
    "password=\"PASSWORD@123\"\n",
    "x=password.split(sep=\"\")\n",
    "print(x)"
   ]
  },
  {
   "cell_type": "code",
   "execution_count": null,
   "id": "74631823",
   "metadata": {},
   "outputs": [],
   "source": [
    "str1=\"My name is Devang and i am working with TQ\"\n",
    "str1.replace(\" \",\"\")#.+ tab  #shift+tab--> docstring \n",
    "\n",
    "str2=\"-13424343\"\n",
    "\n"
   ]
  },
  {
   "cell_type": "code",
   "execution_count": null,
   "id": "ade0ab4f",
   "metadata": {},
   "outputs": [],
   "source": [
    "str1=\"      Welcome to TQ  1812  \"\n",
    "len(str1)"
   ]
  },
  {
   "cell_type": "code",
   "execution_count": null,
   "id": "9081c0bd",
   "metadata": {},
   "outputs": [],
   "source": [
    "str1.strip()"
   ]
  },
  {
   "cell_type": "code",
   "execution_count": null,
   "id": "2f6a4201",
   "metadata": {},
   "outputs": [],
   "source": [
    "x=str1.center(35,\"!\")"
   ]
  },
  {
   "cell_type": "code",
   "execution_count": null,
   "id": "188d87a1",
   "metadata": {},
   "outputs": [],
   "source": [
    "len(x)\n"
   ]
  },
  {
   "cell_type": "code",
   "execution_count": null,
   "id": "036d5a2d",
   "metadata": {},
   "outputs": [],
   "source": [
    "str1.capitalize()\n",
    "y=str1.strip()\n",
    "z=y.capitalize()\n",
    "print(z)\n",
    "str1.count(\"t\")\n",
    "z.count(\"t\")\n",
    "str1.endswith(\"  \") #bool result whether str ends with particular seq or not\n",
    "y.endswith(\"1812\")"
   ]
  },
  {
   "cell_type": "code",
   "execution_count": null,
   "id": "46ce9171",
   "metadata": {},
   "outputs": [],
   "source": [
    "str1.find(\"D\") #FIND WILL RETURN -1 IF SUBSTRING IS NOT PRESENT\n",
    "str1.index(\"D\") #ERROR IF SUBSTRING IS NOT PRESENT\n"
   ]
  },
  {
   "cell_type": "code",
   "execution_count": null,
   "id": "14e1eff2",
   "metadata": {},
   "outputs": [],
   "source": [
    "let=input()\n",
    "str1=input()\n",
    "\n",
    "x=str1.index(let)\n",
    "\n",
    "if x==-1:\n",
    "    print('Not present')\n",
    "else:\n",
    "    print(x,\"is the index\")"
   ]
  },
  {
   "cell_type": "code",
   "execution_count": null,
   "id": "a14eef59",
   "metadata": {},
   "outputs": [],
   "source": [
    "str1.isalnum()\n",
    "str1\n",
    "str1"
   ]
  },
  {
   "cell_type": "code",
   "execution_count": null,
   "id": "d2d314f0",
   "metadata": {},
   "outputs": [],
   "source": [
    "str1.isascii()\n",
    "str1.isdecimal()\n",
    "str1.istitle() \n",
    "str1.title() \n",
    "str1.upper()\n",
    "str1.join(\"  \")\n",
    "str2=\"TQ \"\n",
    "str1.join(str2)\n",
    "x=\"DevangSareen!TSE!DADS\"\n",
    "y=x.split(\"!\")\n",
    "print(y)\n",
    "\n",
    "\n",
    "for i in y:\n",
    "    z.join(i)\n",
    "    \n",
    "print(z)\n",
    "    \n"
   ]
  },
  {
   "cell_type": "code",
   "execution_count": null,
   "id": "b6693fdb",
   "metadata": {},
   "outputs": [],
   "source": [
    "str1.removeprefix(\"Devang\")\n",
    "str1.removesuffix(\"een \")"
   ]
  },
  {
   "cell_type": "code",
   "execution_count": null,
   "id": "0a458597",
   "metadata": {},
   "outputs": [],
   "source": [
    "str1.ljust(40,\"!\")"
   ]
  },
  {
   "cell_type": "code",
   "execution_count": null,
   "id": "86e65239",
   "metadata": {},
   "outputs": [],
   "source": [
    "str1.swapcase()\n",
    "str1.replace(\"sareen\",\"Sareen\")"
   ]
  },
  {
   "cell_type": "code",
   "execution_count": null,
   "id": "819cca4c",
   "metadata": {},
   "outputs": [],
   "source": [
    "str1=input()\n",
    "#str1 is no or not ?\n",
    "\"-\"\n",
    "str1=-134243\n",
    "str1=123435"
   ]
  },
  {
   "cell_type": "code",
   "execution_count": null,
   "id": "4c040359",
   "metadata": {},
   "outputs": [],
   "source": [
    "str1=input()\n",
    "if (str1[0]==\"-\" or str1[0]==\"+\"):\n",
    "    x=str1[1:]\n",
    "    if x.isdigit():\n",
    "        print('str1 is an integer')\n",
    "    else:\n",
    "        print('str1 is not an integer')\n",
    "elif str1.isdigit():\n",
    "    print(\"str1 is an integer\")\n",
    "else:\n",
    "    print('str1 is not an integer')"
   ]
  },
  {
   "cell_type": "code",
   "execution_count": null,
   "id": "a79cd5b4",
   "metadata": {},
   "outputs": [],
   "source": [
    "\n",
    "#user name of a person and then you have to check that is it valid username or not for youtube \n",
    "#len=8\n",
    "#there should not be a space\n",
    "#@ is compulsory \n",
    "#there should be a number \n",
    "@name3"
   ]
  },
  {
   "cell_type": "code",
   "execution_count": null,
   "id": "c6de42e0",
   "metadata": {},
   "outputs": [],
   "source": [
    "name=input()\n",
    "name.isalnum()"
   ]
  },
  {
   "cell_type": "code",
   "execution_count": null,
   "id": "453a4a5e",
   "metadata": {},
   "outputs": [],
   "source": [
    "username=input('Enter a username')\n",
    "alpha=[]\n",
    "dig=[]\n",
    "spa=[]\n",
    "special=[]\n",
    "if len(username)>=8:\n",
    "    if (username[0]=='@'):\n",
    "        x=username[1:]\n",
    "        for i in x:\n",
    "            if i.isalpha():\n",
    "                alpha.append(i)\n",
    "            elif i.isdigit():\n",
    "                dig.append(i)\n",
    "            elif i.isspace():\n",
    "                spa.append(i)\n",
    "            else:\n",
    "                special.append(i)\n",
    "    \n",
    "\n",
    "if len(username)>=8 and username[0]==\"@\":\n",
    "    if (len(alpha)>0 and len(dig)>0 and len(spa)==0):\n",
    "        y=username[-2:]\n",
    "        if y.isdigit():\n",
    "            print('Valid username')\n",
    "        else:\n",
    "            print('Invalid username')\n",
    "            if len(alpha)==0:\n",
    "                print('Enter alphabet')\n",
    "            if len(dig)==0:\n",
    "                print('Enter a number')\n",
    "            if len(spa)>0:\n",
    "                print('Remove space')\n",
    "            if y.isalpha() or y.isspace() or y.isalnum():\n",
    "                print('Enter a number at last')\n",
    "\n",
    "else:\n",
    "    if len(username)<8 :\n",
    "        print('Enter username more than 8')\n",
    "    if username[0]!=\"@\":\n",
    "        print('Enter @ symbol')"
   ]
  },
  {
   "cell_type": "markdown",
   "id": "805efe09",
   "metadata": {},
   "source": [
    "# 11:25--> (10 mint , 15 mint )"
   ]
  },
  {
   "cell_type": "code",
   "execution_count": null,
   "id": "99b1f347",
   "metadata": {},
   "outputs": [],
   "source": [
    "import re\n",
    "help(re)"
   ]
  },
  {
   "cell_type": "code",
   "execution_count": null,
   "id": "bc07a20a",
   "metadata": {},
   "outputs": [],
   "source": [
    "#pyscript\n",
    "#tkinter \n",
    "#1000 frameworks "
   ]
  },
  {
   "cell_type": "code",
   "execution_count": null,
   "id": "3debc97b",
   "metadata": {},
   "outputs": [],
   "source": [
    "#list --> list is used to store multiple item in single variable it is mutable ordered contains duplicates and heterogenous created using []\n",
    "#tuple--> Tuple is immutable tuple is faster than list and also it is engrosed within round brackets\n",
    "#list comprehension\n",
    "#l1=[1,2,3,4,5,6]\n",
    "#l2=[1,8,27,64,]\n",
    "\n",
    "#nested tuples\n"
   ]
  },
  {
   "cell_type": "code",
   "execution_count": null,
   "id": "b8fdfe95",
   "metadata": {},
   "outputs": [],
   "source": [
    "l3=[1,2,3,4,5,6,7,8]\n",
    "l2=[]\n",
    "for i in l1:\n",
    "    l2.append(i**3)\n",
    "    \n",
    "l3=[i**4 for i in l1]\n",
    "\n",
    "l3\n",
    "\n",
    "l1=[4,5,6,7,8,9,10,11,12]\n",
    "l2=[i+j for i in l1 for j in l3]\n",
    "l2\n",
    "\n"
   ]
  },
  {
   "cell_type": "code",
   "execution_count": null,
   "id": "2afa47b0",
   "metadata": {
    "scrolled": true
   },
   "outputs": [],
   "source": [
    "l1=[1,2,3,4,5,6]\n",
    "l2=[4,5,]\n",
    "l3=[x*y for x in l1 for y in l2]\n",
    "l3\n",
    "\n",
    "#2 dices --> 1,2,3,4,5,6\n",
    "#1,2,3,4,5,6\n",
    "probablity of getting sum>6\n"
   ]
  },
  {
   "cell_type": "code",
   "execution_count": null,
   "id": "0fa74619",
   "metadata": {},
   "outputs": [],
   "source": [
    "l2"
   ]
  },
  {
   "cell_type": "code",
   "execution_count": null,
   "id": "0f84a1bc",
   "metadata": {},
   "outputs": [],
   "source": [
    "l1=[1,2,3,4,5,6]\n",
    "l2=[1,2,3,4,5,6]\n",
    "l3=[x+y for x in l1 for y in l2]#list of all possible outcomes\n",
    "print(len(l3)) \n",
    "l4=[]\n",
    "for i in l3:\n",
    "    if i>5:\n",
    "        l4.append(i)#2+5,3+4,4+3 1+6 6+1 5+2\n",
    "        \n",
    "print(l4)\n",
    "\n",
    "l3\n",
    "\n",
    "probablity=len(l4)/len(l3) #21/36\n",
    "print(probablity)\n",
    "\n",
    "l5=[x+y for x in l1 for y in l2 if x+y>6]\n",
    "p_A=len(l5)/36"
   ]
  },
  {
   "cell_type": "code",
   "execution_count": null,
   "id": "2693db3b",
   "metadata": {},
   "outputs": [],
   "source": [
    "#tossing up a coin 2\n",
    "#hh\n",
    "#ht\n",
    "#th\n",
    "#tt\n",
    "#no of heads\n",
    "l6=[\"h\",\"t\"]\n",
    "l3=[\"h\",\"t\"]\n",
    "l1=[\"h\",\"t\"]\n",
    "l2=[\"h\",\"t\"]\n",
    "l4=[x+y+z+w for x in l1 for y in l2 for z in l3 for w in l6] #string concatenation ()\n",
    "l4\n",
    "#2 headh\n",
    "h=0\n",
    "t=0\n",
    "print(l4)\n",
    "for i in l4:\n",
    "    b=i.count(\"t\")\n",
    "    print(\"No of tails is\",b)\n",
    "    a=i.count(\"h\")\n",
    "    print(\"No of heads is\",a)\n",
    "    if a==2:\n",
    "        h+=1\n",
    "    if b==3:\n",
    "        t+=1\n",
    "print(h)\n",
    "print(t)\n",
    "print(h/len(l4))"
   ]
  },
  {
   "cell_type": "code",
   "execution_count": null,
   "id": "191e146c",
   "metadata": {},
   "outputs": [],
   "source": [
    "l1=[1,2,3,4,5,7,8]\n",
    "l1.append(10)\n",
    "l1.append([11,12,13,14,15])\n",
    "l1.extend([11,12,13,14,15])\n",
    "l1.insert(6,7) #position add the element to that position\n",
    "l1\n",
    "#append inserts at the last of the list multiple elements gets added at a single index\n",
    "#extend inserts one or more elements at last of list multiple elements gets added at a single index\n",
    "#insert inserts at a specific of list ,can only add one element \n",
    "#l1[9]=sum(l1[9])\n",
    "l1[9]=max(l1[9])\n",
    "str1=\"TQ - Python\"\n",
    "#str1[6]=\"t\"\n",
    "print(str1.capitalize())\n",
    "print(str1)\n",
    "#string is immutable\n",
    "l1"
   ]
  },
  {
   "cell_type": "code",
   "execution_count": null,
   "id": "58be94bc",
   "metadata": {},
   "outputs": [],
   "source": [
    "#DELETE/REMOVE AN ELEMENT\n",
    "#pop\n",
    "#remove \n",
    "#clear \n",
    "#l1.pop() #it pops out the last element if no index is given\n",
    "#l1.pop(2)#it pops out the element at given index if index is given\n",
    "l1=[1,2,3,4,5,7,7,8,10,7]\n",
    "l1.remove(7)\n",
    "print(l1)\n",
    "l1#REMOVES a particular element  #element based \n",
    "l2=[1,1,1,1,1,1,1,1,1,1]\n",
    "l2.remove(1)\n",
    "l2\n",
    "l2.clear() #clear all the elements of list\n",
    "l2"
   ]
  },
  {
   "cell_type": "code",
   "execution_count": null,
   "id": "426ee2f3",
   "metadata": {},
   "outputs": [],
   "source": [
    "l1.index(7) #returns the 1st index of element\n",
    "l1.reverse()\n",
    "l1.sort() #sorts into ascending order\n",
    "l1.sort(reverse=True) #sorts into descending order\n",
    "l1"
   ]
  },
  {
   "cell_type": "code",
   "execution_count": null,
   "id": "6a5dbaa0",
   "metadata": {},
   "outputs": [],
   "source": [
    "name=\"devang\"\n",
    "#name.reverse()\n",
    "x=name.split()\n",
    "y=x.reverse()\n",
    "print(y)"
   ]
  },
  {
   "cell_type": "code",
   "execution_count": null,
   "id": "d1b8ba5b",
   "metadata": {},
   "outputs": [],
   "source": [
    "#list=[1,2,3,4,5,6] #it is mutable,ordered,contains duplicates list takes more space\n",
    "tuple1=(1,2,3,4,5,6,\"vaibhav\",5.7,True) #it takes lesser storage space and also it is faster and it is immutable #we want to save a file permanently we can use tuple \n",
    "print(\"count of 5 in tuple1 \",tuple1.count(5)) #no of occurances 1\n",
    "tuple1.index(5) #location of element in tuple1\n",
    "print(\"type of tuple1\",type(tuple1))\n",
    "tuple2=(5,6,7,8,9,10)\n",
    "#t3=tuple1+tuple2\n",
    "#print(t3)#concatenation --> adding each elements of the sequence and creating 3rd \n",
    "#t4=t3*3 #it multiplys the tuple thrice \n",
    "#print(len(t3)) #15\n",
    "#print(len(t4)) #15*3=45\n",
    "#print(t4)\n",
    "print(type(tuple1[0]))\n",
    "#del(t3)\n",
    "#max(tuple1)\n",
    "max(tuple2)\n",
    "min(tuple2)\n",
    "sum(tuple2)\n"
   ]
  },
  {
   "cell_type": "code",
   "execution_count": null,
   "id": "ab98aa81",
   "metadata": {},
   "outputs": [],
   "source": [
    "#storing password -->  ()\n",
    "#password1=()\n",
    "#tq@1812\n",
    "#dev@1996\n",
    "s1={\"anjali\",1,2,3,4,5,6,7,8,9,\"vaibhav\",9,4,10}\n",
    "s1\n",
    "#s2={1,100,2,3,4,5,1000}\n",
    "#s2\n",
    "#010101\n",
    "str1=\"vaibhav\"\n",
    "str1.isascii()\n",
    "ord(\"v\") #ORD IS A KEYWORD THAT CONVERTS AN ALPHABET INTO ITS EQUIVALENT ASCII\n"
   ]
  },
  {
   "cell_type": "code",
   "execution_count": null,
   "id": "68d467f1",
   "metadata": {},
   "outputs": [],
   "source": [
    "100,1000,2\n",
    "s3={1,1.4,2.6,5.3,6,5323.5,10.5,0.4,1.005,100.5,156.3,\"anjali\",\"sunny\",\"vaibhav\",1.000000005}\n",
    "s3  "
   ]
  },
  {
   "cell_type": "code",
   "execution_count": null,
   "id": "61c564ce",
   "metadata": {},
   "outputs": [],
   "source": [
    "s3\n",
    "s4={1,4,5,6,10,16}\n",
    "s4"
   ]
  },
  {
   "cell_type": "code",
   "execution_count": null,
   "id": "02aaa8f3",
   "metadata": {},
   "outputs": [],
   "source": [
    "#vaibhav --> how it is converted and read by the machine \n",
    "#v-->118--> binary--> (0100101)\n",
    "#a-->97---> binary equi\n",
    "\n",
    "#leap year \n",
    "#\n",
    "ord(\"A\")"
   ]
  },
  {
   "cell_type": "code",
   "execution_count": null,
   "id": "4b4d534e",
   "metadata": {},
   "outputs": [],
   "source": [
    "s5={2,3,5,6,7,8,8.5,10,10,20,5332,20005.6,\"True\",\"False\",\"Aarush\"}\n",
    "#s1={1,3,4,6,34.5}\n",
    "#num --> true or false --> 1, 0 \n",
    "#string--> ascii \n"
   ]
  },
  {
   "cell_type": "code",
   "execution_count": null,
   "id": "bf3348f2",
   "metadata": {},
   "outputs": [],
   "source": [
    "s5"
   ]
  },
  {
   "cell_type": "code",
   "execution_count": null,
   "id": "0d980e24",
   "metadata": {},
   "outputs": [],
   "source": [
    "#ascending -integer , float bool string\n",
    "z=\"my name is DEVANG devang and i am pleased to meet you\"\n",
    "c=[]\n",
    "for i in z:\n",
    "    c.append(i)\n",
    "    \n",
    "print(len(c))\n",
    "print('Unique characters of string are',len(set(c)))\n",
    "#NO --> "
   ]
  },
  {
   "cell_type": "code",
   "execution_count": null,
   "id": "0863c145",
   "metadata": {},
   "outputs": [],
   "source": [
    "set1={1,2,3,5,6,73,34,5,3}\n",
    "set1"
   ]
  },
  {
   "cell_type": "code",
   "execution_count": null,
   "id": "25cfe00b",
   "metadata": {},
   "outputs": [],
   "source": [
    "set1.add(10) #add will add the element\n",
    "set1.clear() #removes all the elements from the set\n"
   ]
  },
  {
   "cell_type": "code",
   "execution_count": null,
   "id": "cb3d3543",
   "metadata": {},
   "outputs": [],
   "source": [
    "set2=set1.copy() #copy will copy the entire set1 to set2\n",
    "set2"
   ]
  },
  {
   "cell_type": "code",
   "execution_count": null,
   "id": "63fd00b1",
   "metadata": {},
   "outputs": [],
   "source": [
    "set1.discard(73) #IT REMOVES A PARTICULAR ELEMENT FROM THE SET"
   ]
  },
  {
   "cell_type": "code",
   "execution_count": null,
   "id": "a21e39ae",
   "metadata": {},
   "outputs": [],
   "source": [
    "set1"
   ]
  },
  {
   "cell_type": "code",
   "execution_count": null,
   "id": "9af6b7fc",
   "metadata": {},
   "outputs": [],
   "source": [
    "set1.pop() #it will remove the elements ascending as per the ascii"
   ]
  },
  {
   "cell_type": "code",
   "execution_count": null,
   "id": "1427d299",
   "metadata": {},
   "outputs": [],
   "source": [
    "set1={1,2,3,4,5,6,7,8,2004,3006} u {1,2,3,4,5,6,7,8,2004,3006}\n"
   ]
  },
  {
   "cell_type": "code",
   "execution_count": null,
   "id": "d921bdf3",
   "metadata": {},
   "outputs": [],
   "source": [
    "set1.pop() #it will remove the elements in ascending order\n",
    "set2={1,2,3,4,5,6,7,8,9,10,11,12.13,14}"
   ]
  },
  {
   "cell_type": "code",
   "execution_count": null,
   "id": "b3070308",
   "metadata": {},
   "outputs": [],
   "source": [
    "set1.remove(3006) #removes an element from the set"
   ]
  },
  {
   "cell_type": "code",
   "execution_count": null,
   "id": "c95ce9d2",
   "metadata": {},
   "outputs": [],
   "source": [
    "set1.update(set2) #set1 u set1 =set1\n",
    "set1\n",
    "set1.union(set2)\n",
    "{1 to 10} set2={11 to 20}\n",
    "set1 . union(set2)\n",
    "{1,2,3,4,5,6,7,8,,,,11,12,13,14,15,16,,,}\n",
    "\n",
    "set1.update(set2)\n",
    "\n",
    "#update vs union \n",
    "#it will make changes in set \n",
    "#there will not be any changes in the set and it will just print the intermediate output \n"
   ]
  },
  {
   "cell_type": "code",
   "execution_count": null,
   "id": "0a3eb5b3",
   "metadata": {},
   "outputs": [],
   "source": [
    "set1={1,2,3,4,5,6,7}\n",
    "set2={6,7,89,10}\n",
    "#print(set1.union(set2))\n",
    "\n",
    "#set1.update(set2)\n",
    "#print(set1)\n",
    "#set2.fn(set1)\n",
    "#print(set1)"
   ]
  },
  {
   "cell_type": "code",
   "execution_count": null,
   "id": "8c0bc365",
   "metadata": {},
   "outputs": [],
   "source": [
    "set1.difference(set2)\n",
    "#s1-s2\n",
    "#s1-s2"
   ]
  },
  {
   "cell_type": "code",
   "execution_count": null,
   "id": "e9a11036",
   "metadata": {},
   "outputs": [],
   "source": [
    "#difference\n",
    "#intersection\n",
    "#symmetric_difference\n",
    "#disjoint\n",
    "#subset\n",
    "#superset\n",
    "\n",
    "set1.intersection_update(set2)\n",
    "#s1=s1 intersection s2\n",
    "#update--> it will update the value on the particular set "
   ]
  },
  {
   "cell_type": "code",
   "execution_count": null,
   "id": "9efd0d80",
   "metadata": {},
   "outputs": [],
   "source": [
    "#print(set1 U set2)\n",
    "#print(set1.update(set2))\n",
    "#set1=set1.union(set2)\n",
    "set1={1,2,3,4,5,6,7}\n",
    "set2={6,7,89,10}\n",
    "set1.difference(set2)\n",
    "set1.intersection(set2)\n",
    "set1.symmetric_difference(set2)\n",
    "set1.isdisjoint(set2) #there should not be any common val\n",
    "set1.issubset(set2) #all elements of set1 are there in set2 or not \n",
    "set1.issuperset(set2) #all elements of set2 are there in set1 or not \n",
    "set1.union(set2)\n",
    "\n",
    "#set1.difference_update(set2) #1,2,3,4,5\n",
    "#set1.intersection_update(set2) #6,7\n",
    "#set1.symmetric_difference_update(set2) #1,2,3,4,5,10,89\n"
   ]
  },
  {
   "cell_type": "code",
   "execution_count": null,
   "id": "0da99899",
   "metadata": {},
   "outputs": [],
   "source": [
    "#8 ,9 \n",
    "str1=input()\n",
    "r_str=str1[-8:-3:-1] #3to 7 \n",
    "#jagruti \n",
    "str1[::-1]\n",
    "\n",
    "if str1==r_str:\n",
    "    print(str1,\"is a palindrome\")\n",
    "else:\n",
    "    print(str1,\"is not a palindrome\")\n",
    "    \n",
    "print(str1)\n",
    "print(r_str)"
   ]
  },
  {
   "cell_type": "code",
   "execution_count": null,
   "id": "8c454102",
   "metadata": {},
   "outputs": [],
   "source": [
    "*\n",
    "* *\n",
    "* * *\n",
    "* * * * \n",
    "* * * * *"
   ]
  },
  {
   "cell_type": "code",
   "execution_count": null,
   "id": "2a304a03",
   "metadata": {},
   "outputs": [],
   "source": [
    "n=int(input())\n",
    "for i in range(0,n): #[0,1,2,3,4,5,6] [2]\n",
    "    for j in range(0,i+1):#[0,1\n",
    "        print(\"*\",end=\"\")\n",
    "        \n",
    "    print()"
   ]
  },
  {
   "cell_type": "code",
   "execution_count": null,
   "id": "15d36c5b",
   "metadata": {},
   "outputs": [],
   "source": [
    "n=int(input())\n",
    "for i in range(0,n):\n",
    "    for j in range(0,i+1):\n",
    "        print(\"\",end=\"\")\n",
    "    #PRINTING THE ELEMENT\n",
    "    for j in range((n-i)-1): #[6,5,4,3,2,1]\n",
    "        print(chr(97+j),end=\" \")\n",
    "    print()"
   ]
  },
  {
   "cell_type": "code",
   "execution_count": null,
   "id": "e777250b",
   "metadata": {},
   "outputs": [],
   "source": [
    "n=521 \n",
    "while n>228:\n",
    "    if n%2!=0:\n",
    "        print(n)\n",
    "    n=n-1"
   ]
  },
  {
   "cell_type": "code",
   "execution_count": null,
   "id": "2861395f",
   "metadata": {},
   "outputs": [],
   "source": [
    "student=[\"Devang\",'Anjali',\"Harshad\",\"Harshal\",\"Jagruti\",\"Snehal\",\"Prajwal\"]\n",
    "for i in student:\n"
   ]
  },
  {
   "cell_type": "code",
   "execution_count": null,
   "id": "b9b2ce2b",
   "metadata": {},
   "outputs": [],
   "source": [
    "for i in range(100): #[0,1,2,3,4,5,6,7,8,9,10,11,12,13,,,,99]\n",
    "for i in range(100,5): #[10,11,12,13,14,...99]\n",
    "for i in range(10,100,3)#[10,13,16,19,22,25,28]\n",
    "\n"
   ]
  },
  {
   "cell_type": "code",
   "execution_count": null,
   "id": "41491144",
   "metadata": {},
   "outputs": [],
   "source": [
    "for i in range(100,5):\n",
    "    print(i)\n",
    "    \n",
    "range(100) #start=0, step_size=1\n",
    "range(10,100) #step_size=1\n"
   ]
  },
  {
   "cell_type": "code",
   "execution_count": null,
   "id": "6cb69757",
   "metadata": {},
   "outputs": [],
   "source": [
    "sum1=0\n",
    "for i in range(11):\n",
    "    \n",
    "    sum1+=i\n",
    "    print(\"the value of i after iteration is\",i)\n",
    "    print(sum1)\n",
    "\n",
    "print(sum1)"
   ]
  },
  {
   "cell_type": "code",
   "execution_count": null,
   "id": "0dc7b69f",
   "metadata": {},
   "outputs": [],
   "source": [
    "for i in range(100):#[0,1,2,3,4,5,6,7,8,9,10,....99] #[6]\n",
    "    for j in range(1,i+1): #[0,i] #[0,1,2,3,4,5,6]\n",
    "        print(i/j)\n",
    "        \n",
    "#n=60\n",
    "#0 to 59 \n",
    "#prime no "
   ]
  },
  {
   "cell_type": "code",
   "execution_count": null,
   "id": "eae26c0f",
   "metadata": {
    "scrolled": false
   },
   "outputs": [],
   "source": [
    "num=int(input(\"Enter a value\")) #50\n",
    "for i in range(2,num+1):#[2,3,4,5,6,,,,50] #i==6#6\n",
    "    for j in range(2,((i+1//2))):#2,3,4,5,6,7,8,9,10,11,(i+1/2) #2,3\n",
    "        if i%j==0:#j=[2,3] #7 #6%2==0\n",
    "            break \n",
    "    else:\n",
    "        print(i)\n",
    "            \n",
    "            \n",
    "\n"
   ]
  },
  {
   "cell_type": "code",
   "execution_count": null,
   "id": "d1219e3d",
   "metadata": {},
   "outputs": [],
   "source": [
    "num=int(input())\n",
    "for i in range(1,num+1):\n",
    "    if i%2==0:\n",
    "        continue\n",
    "    print(i)"
   ]
  },
  {
   "cell_type": "code",
   "execution_count": null,
   "id": "e6ceec2c",
   "metadata": {},
   "outputs": [],
   "source": []
  },
  {
   "cell_type": "code",
   "execution_count": null,
   "id": "44fa8792",
   "metadata": {},
   "outputs": [],
   "source": [
    "x=range(2,25.85):"
   ]
  },
  {
   "cell_type": "code",
   "execution_count": null,
   "id": "423f20ef",
   "metadata": {},
   "outputs": [],
   "source": [
    "8//3 #quotient \n",
    "8%3\n",
    "8/3\n",
    "\n",
    "50+1/3\n",
    "\n",
    "51/3=17\n",
    "print(abs(8/3,2))"
   ]
  },
  {
   "cell_type": "code",
   "execution_count": null,
   "id": "b4afe360",
   "metadata": {},
   "outputs": [],
   "source": [
    "for i in range(10):#n-1 \n",
    "    #start-0,1,2,3,4,5,6,7,8,9"
   ]
  },
  {
   "cell_type": "code",
   "execution_count": null,
   "id": "9e7d79a1",
   "metadata": {},
   "outputs": [],
   "source": [
    "x=int(input())\n",
    "y=int(input())\n",
    "\n",
    "print(\"the numbers without swapping is\",x ,\"and\",y)\n",
    "print(\"Swapping process underway\")\n",
    "x,y=y,x\n",
    "print(\"the numbers after  swapping is\",x ,\"and\",y)"
   ]
  },
  {
   "cell_type": "code",
   "execution_count": null,
   "id": "8d988fc7",
   "metadata": {},
   "outputs": [],
   "source": [
    "#vowels \n",
    "str1=input()\n",
    "c=0\n",
    "vowels=[\"a\",\"e\",\"i\",\"o\",\"u\",\"A\",\"E\",\"I\",\"O\",\"U\"]\n",
    "for letter in str1:\n",
    "    if letter in vowels:\n",
    "        c=c+1\n",
    "print('The count of vowels in a given string is',c)\n"
   ]
  },
  {
   "cell_type": "code",
   "execution_count": null,
   "id": "f86253d8",
   "metadata": {},
   "outputs": [],
   "source": [
    "sentence=input()\n",
    "word=sentence.split()\n",
    "print(word)\n",
    "for i in word:\n",
    "    c=word.count(i)\n",
    "    \n",
    "    print(c,i)\n"
   ]
  },
  {
   "cell_type": "code",
   "execution_count": null,
   "id": "bc2fe3ed",
   "metadata": {},
   "outputs": [],
   "source": [
    "sentence=input()\n",
    "x=sentence.swapcase()\n",
    "print(x)"
   ]
  },
  {
   "cell_type": "code",
   "execution_count": null,
   "id": "50da69bb",
   "metadata": {},
   "outputs": [],
   "source": [
    "\n",
    "I am a python trainer i am from valsad i teach python"
   ]
  },
  {
   "cell_type": "code",
   "execution_count": null,
   "id": "c9fe5abe",
   "metadata": {},
   "outputs": [],
   "source": [
    "#1!+2!+3!+.. \n",
    "\n",
    "#print the sum of factorials uptil n\n",
    "n=int(input())#int(input())\n",
    "fact=1 \n",
    "sum=0\n",
    "for i in range(1,n+1): #(1,2,3,4,5)\n",
    "    fact=fact*i #fact=fact*i 2 6 24\n",
    "    sum+=fact #1,3,9,33\n",
    "    \n",
    "print(fact)\n",
    "print(sum)\n"
   ]
  },
  {
   "cell_type": "code",
   "execution_count": null,
   "id": "a308a10d",
   "metadata": {},
   "outputs": [],
   "source": [
    "#GCD\n",
    "m=int(input()) #12\n",
    "n=int(input()) #8\n",
    "d=min(m,n) #d=min(m,n) d=8\n",
    "#d=15\n",
    "while True:\n",
    "    if m%d==0 and n%d==0: #12%8 and 8%8 #M=15 N=25\n",
    "        print(d,\"is the gcd\")\n",
    "        break\n",
    "    else:\n",
    "        d=d-1 #7 ,6 ,5,4\n",
    "       \n",
    "\n",
    "lcm=m*n/d\n",
    "print(lcm)"
   ]
  },
  {
   "cell_type": "code",
   "execution_count": null,
   "id": "59f47d34",
   "metadata": {},
   "outputs": [],
   "source": []
  },
  {
   "cell_type": "code",
   "execution_count": null,
   "id": "c1c579c5",
   "metadata": {},
   "outputs": [],
   "source": [
    "#lcm --> least common multiple \n",
    "m=int(input()) #50\n",
    "n=int(input()) #125\n",
    "lcm=max(m,n) #125\n",
    "\n",
    "while True:\n",
    "    if ((lcm % m==0) and (lcm% n==0)):\n",
    "        print(lcm)\n",
    "        break\n",
    "    else:\n",
    "        lcm+=1 \n",
    "\n",
    "        \n",
    "        \n"
   ]
  },
  {
   "cell_type": "code",
   "execution_count": null,
   "id": "262ff7c8",
   "metadata": {},
   "outputs": [],
   "source": [
    "x=int(input('Enter the base'))\n",
    "y=int(input('Enter the index'))\n",
    "\n",
    "power=x**y\n",
    "print(\"x to the power y\",power)"
   ]
  },
  {
   "cell_type": "code",
   "execution_count": null,
   "id": "e7e4357b",
   "metadata": {},
   "outputs": [],
   "source": []
  },
  {
   "cell_type": "code",
   "execution_count": null,
   "id": "3a41cd87",
   "metadata": {},
   "outputs": [],
   "source": [
    "123234567  2/9"
   ]
  },
  {
   "cell_type": "code",
   "execution_count": null,
   "id": "719221ea",
   "metadata": {},
   "outputs": [],
   "source": [
    "num=input() #123456123456\n",
    "d=input()\n",
    "c=0\n",
    "for i in num:\n",
    "    if i==d:\n",
    "        c+=1\n",
    "    \n",
    "print(c/len(num))"
   ]
  },
  {
   "cell_type": "markdown",
   "id": "844a6e21",
   "metadata": {},
   "source": [
    "125\n",
    "1**3 "
   ]
  },
  {
   "cell_type": "code",
   "execution_count": null,
   "id": "88d8e4e0",
   "metadata": {},
   "outputs": [],
   "source": [
    "#armstrong num\n",
    "num=int(input()) #153\n",
    "sum=0\n",
    "n1=str(num)\n",
    "\n",
    "temp=num #temp\n",
    "while temp>0: #153>0:\n",
    "    digit= temp%10 #digit=3,5,1\n",
    "    sum+=digit**len(n1) #sum==27+125+1\n",
    "    temp//=10 #temp//=10  #1 \n",
    "if num==sum:\n",
    "    print(num,\"is an armstrong number\")\n",
    "else:\n",
    "    print(num,\"is not an armstrong number\")\n"
   ]
  },
  {
   "cell_type": "code",
   "execution_count": null,
   "id": "ebd1154c",
   "metadata": {},
   "outputs": [],
   "source": [
    "#a**n+b**n+c**n+d**n=number\n",
    "#len(num)\n",
    "#\n",
    "#set \n",
    "#list "
   ]
  },
  {
   "cell_type": "code",
   "execution_count": null,
   "id": "50f03419",
   "metadata": {},
   "outputs": [],
   "source": [
    "list1=[\"Red\",\"Green\",\"Black\",\"Pink\",\"Yellow\",\"White\"]\n",
    "#0,4,5\n",
    "del(list1[5],list1[4],list1[0])\n",
    "list1"
   ]
  },
  {
   "cell_type": "code",
   "execution_count": null,
   "id": "d764c628",
   "metadata": {},
   "outputs": [],
   "source": [
    "number=input() #125==>1+2+5=8   125/8==> harshad / niven \n",
    "x=str(sum)\n",
    "\n",
    "for i in number:\n",
    "    x+=i\n",
    "    \n",
    "print(x) \n",
    "num=int(number)\n",
    "sum1=int(x)\n",
    "print(sum1)\n",
    "print(sum1)\n",
    "\n",
    "if (num%sum1==0):\n",
    "    print('It is a harshad number')\n",
    "else:\n",
    "    print('It is not a harshad number')\n",
    "\n",
    "#12345/15"
   ]
  },
  {
   "cell_type": "code",
   "execution_count": null,
   "id": "93956a13",
   "metadata": {},
   "outputs": [],
   "source": [
    "num=int(input())\n",
    "sum=0\n",
    "\n",
    "while (num>0): #12345 #1234\n",
    "    rem=num%10 #rem=5,4\n",
    "    sum=sum+rem#sum=5+4+3+2+1\n",
    "    num=num//10 #1234 #123 #12 #1 \n",
    "    \n",
    "print(sum)\n",
    "if num%sum==0:\n",
    "    print('It is harshad number')\n",
    "else:\n",
    "    print('It is not a harshad number')"
   ]
  },
  {
   "cell_type": "code",
   "execution_count": null,
   "id": "e8f1480d",
   "metadata": {},
   "outputs": [],
   "source": [
    "1//10\n",
    "51%6\n"
   ]
  },
  {
   "cell_type": "code",
   "execution_count": null,
   "id": "978a2d16",
   "metadata": {},
   "outputs": [],
   "source": [
    "12345/15"
   ]
  },
  {
   "cell_type": "code",
   "execution_count": null,
   "id": "3bf3e7d4",
   "metadata": {},
   "outputs": [],
   "source": [
    "#2\n",
    "str1=input()\n",
    "f=\"\"\n",
    "for i in range(len(str1)): #range(9)== 0,1,2,3,4,5,6,7,8,9\n",
    "    if i%2==0:\n",
    "        f=f+str1[i]\n",
    "        \n",
    "print(f)\n",
    "        \n"
   ]
  },
  {
   "cell_type": "code",
   "execution_count": null,
   "id": "b702d186",
   "metadata": {},
   "outputs": [],
   "source": [
    "num=int(input())\n",
    "str1=str(num)\n",
    "str2=list(str1)\n",
    "temp=num\n",
    "digit=sum=0\n",
    "for i in str2:\n",
    "    digit=temp%10\n",
    "    sum=sum+digit\n",
    "    temp=temp//10\n",
    "    \n",
    "if num%sum==0:\n",
    "    print(num,\"is a harshad number\")\n",
    "else:\n",
    "    print(num,\"is not a harshad number\")\n"
   ]
  },
  {
   "cell_type": "code",
   "execution_count": null,
   "id": "8fa64d80",
   "metadata": {},
   "outputs": [],
   "source": [
    "#dictionary \n",
    "test1={1:45,2:67,3:90,4:57,5:23,5:37,5:67,5:60,6:37}\n",
    "#key cant be repeated  #in case of repeated keys we will consider the last value as the value of key\n",
    "#values can be repeated\n",
    "test1.keys() #it is used to index keys\n",
    "test1.values()#it is used to index values\n",
    "#key and values both hold in together are items\n",
    "test1.items()\n",
    "print(test1)\n",
    "\n",
    "test1.pop(6) #it take index value and then removes the value with respect to the index \n",
    "print(test1)\n",
    "test1.popitem()\n",
    "print(test1)\n",
    "\n",
    "dict1={\"key\":[1,23,4,5,6,7,8],\"value\":[35,34,56,43,56,42],\"items\":[36,57,60,],\"[456,3535,5335,654]\":\"dict\",\"dict_1\":{1:34,2:45,3:66}}\n",
    "dict1.keys()\n",
    "dict1.values()\n",
    "dict1.items()\n",
    "dict1.popitem()\n",
    "dict1"
   ]
  },
  {
   "cell_type": "code",
   "execution_count": null,
   "id": "ebb3315c",
   "metadata": {},
   "outputs": [],
   "source": [
    "test1[6]=78\n",
    "test1"
   ]
  },
  {
   "cell_type": "code",
   "execution_count": null,
   "id": "bd36e0ac",
   "metadata": {},
   "outputs": [],
   "source": [
    "dict1[\"items\"]=list(range(50,60)) #keys are considered as the index values \n",
    "\n",
    "#list[]\n",
    "for value in dict1.values():\n",
    "    print(value)\n",
    "    \n",
    "#Print all the keys from a dictionary \n",
    "for key in dict1.keys():\n",
    "    print(key)"
   ]
  },
  {
   "cell_type": "code",
   "execution_count": null,
   "id": "360af88c",
   "metadata": {},
   "outputs": [],
   "source": [
    "state_capital={\"Maharashtra\":\"Mumbai\",\"UP\":\"Lucknow\",\"Punjab\":\"Chandigarh\",\"Haryana\":\"Chandigarh\",\"Jammu and Kashmir\":\"Jammu\",\"Jammu and Kashmir\":\"Srinagar\"}"
   ]
  },
  {
   "cell_type": "code",
   "execution_count": null,
   "id": "63be8801",
   "metadata": {},
   "outputs": [],
   "source": [
    "state_capital\n",
    "capital=input()\n",
    "list1=[]\n",
    "for key,value in state_capital.values():\n",
    "    if capital==value:\n",
    "        list1.append(value)\n",
    "        print(key)\n",
    "        \n",
    "    if len(list1)==0:\n",
    "        print('No value exist')\n",
    "        break"
   ]
  },
  {
   "cell_type": "code",
   "execution_count": null,
   "id": "b3daf34c",
   "metadata": {},
   "outputs": [],
   "source": [
    "state_capital.items()"
   ]
  },
  {
   "cell_type": "code",
   "execution_count": null,
   "id": "620867bd",
   "metadata": {},
   "outputs": [],
   "source": [
    "state_capital\n",
    "capital=input()\n",
    "list1=[]\n",
    "for key,value in state_capital.items():\n",
    "    if capital==value:\n",
    "        list1.append(value)\n",
    "        print(key)\n",
    "        \n",
    "    if len(list1)==0:\n",
    "        print('No value exist')\n",
    "        break"
   ]
  },
  {
   "cell_type": "code",
   "execution_count": null,
   "id": "def1e344",
   "metadata": {},
   "outputs": [],
   "source": [
    "#10 mints --> 12 pm \n",
    "x=state_capital.copy() #it create copy of a dictionary\n",
    "x.clear() #removed all the elements\n",
    "x\n",
    "\n",
    "#state_capital.pop(\"Punjab\") \n",
    "#removes specific item\n",
    "x=state_capital.keys()\n",
    "x\n",
    "dict1={}\n",
    "state_capital.fromkeys(x,[1000,1230,12345,12464])\n",
    "\n",
    "state_capital.get(\"UP\") #PRINTS THE VALUE WRT THE KEY\n",
    "state_capital.get(\"Gujarat\")\n",
    "\n",
    "state_capital.setdefault(\"Gujarat\",\"Gandhinagar\")\n",
    "state_capital"
   ]
  },
  {
   "cell_type": "code",
   "execution_count": null,
   "id": "360cc784",
   "metadata": {},
   "outputs": [],
   "source": [
    "state_capital.update({\"UP\":\"Allahabad\"})\n",
    "state_capital"
   ]
  },
  {
   "cell_type": "code",
   "execution_count": null,
   "id": "5e3f4d63",
   "metadata": {},
   "outputs": [],
   "source": [
    "state_capital[\"TN\"]=\"Chennai\"\n",
    "state_capital"
   ]
  },
  {
   "cell_type": "code",
   "execution_count": null,
   "id": "0e574960",
   "metadata": {},
   "outputs": [],
   "source": [
    "list1=[\"Devang\",\"Sumit\",\"Kajol\",\"Sunny\",\"Shubham\",\"Devendra\",\"Viru\"]\n",
    "word=input()\n",
    "x=len(word)\n",
    "print(x)\n",
    "word_1=[]\n",
    "for word in list1:\n",
    "    if len(word)>x:\n",
    "        word_1.append(word)\n",
    "print(word_1)"
   ]
  },
  {
   "cell_type": "code",
   "execution_count": null,
   "id": "77ada9dd",
   "metadata": {},
   "outputs": [],
   "source": [
    "#BY MONDAY\n",
    "3--> 1.Complete whatever was covered\n",
    "#2.Submit the assignment uptil 4\n",
    "#3.7 Questions for revision \n"
   ]
  },
  {
   "cell_type": "code",
   "execution_count": null,
   "id": "7c02cd22",
   "metadata": {},
   "outputs": [],
   "source": [
    "def isPalindrome(s):\n",
    "    return s == s[::-1]\n",
    "s = input(\"enter palindrome word:\")            ## malyalam \n",
    "ans = isPalindrome(s)                          ## ana                          \n",
    "if ans: \n",
    "        print(\"Yes\")\n",
    "else:\n",
    "    print(\"No\")  "
   ]
  },
  {
   "cell_type": "code",
   "execution_count": null,
   "id": "c117c3d0",
   "metadata": {},
   "outputs": [],
   "source": [
    "def p(s):\n",
    "    s=input()\n",
    "    return s==s[::-1]\n",
    "an=p(s)\n",
    "if an:\n",
    "    print(\"yes\")\n",
    "else:\n",
    "    print(\"no\")\n",
    "    \n",
    "p(s)    "
   ]
  },
  {
   "cell_type": "code",
   "execution_count": null,
   "id": "40b665ae",
   "metadata": {},
   "outputs": [],
   "source": [
    "a=set()\n",
    "print(type(a))"
   ]
  },
  {
   "cell_type": "code",
   "execution_count": null,
   "id": "5542a426",
   "metadata": {},
   "outputs": [],
   "source": []
  },
  {
   "cell_type": "code",
   "execution_count": null,
   "id": "ae50eafc",
   "metadata": {},
   "outputs": [],
   "source": []
  }
 ],
 "metadata": {
  "kernelspec": {
   "display_name": "Python 3 (ipykernel)",
   "language": "python",
   "name": "python3"
  },
  "language_info": {
   "codemirror_mode": {
    "name": "ipython",
    "version": 3
   },
   "file_extension": ".py",
   "mimetype": "text/x-python",
   "name": "python",
   "nbconvert_exporter": "python",
   "pygments_lexer": "ipython3",
   "version": "3.9.13"
  }
 },
 "nbformat": 4,
 "nbformat_minor": 5
}
