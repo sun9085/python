{
 "cells": [
  {
   "cell_type": "code",
   "execution_count": null,
   "id": "3ec08121",
   "metadata": {},
   "outputs": [],
   "source": [
    "# 1. WAP program to check whether given string is palindrome\n",
    "     \n",
    "def isPalindrome(s):\n",
    "    return s == s[::-1]\n",
    "s = input(\"enter palindrome word:\")            ## malyalam \n",
    "ans = isPalindrome(s)                          ## ana                          \n",
    "if ans: \n",
    "        print(\"Yes\")\n",
    "else:\n",
    "    print(\"No\")            "
   ]
  },
  {
   "cell_type": "code",
   "execution_count": null,
   "id": "941a6b9b",
   "metadata": {},
   "outputs": [],
   "source": [
    "# 2. WAP program to count number of vowels in given string\n",
    "string=str(input(\"please enter the string:\"))\n",
    "count=0\n",
    "vowels=[\"a\",\"o\",\"u\",\"i\",\"e\",\"A\",\"E\"]\n",
    "for x in string:\n",
    "    if x in vowels:\n",
    "        count=count+1\n",
    "print(len(string))\n",
    "print(\"count number of vowels in given string is:\",count)"
   ]
  },
  {
   "cell_type": "code",
   "execution_count": null,
   "id": "a1f88e4c",
   "metadata": {},
   "outputs": [],
   "source": [
    "# 3. WAP to remove all occurences of given char from String\n",
    "string=input(\"enter the string:\")\n",
    "for i in string:\n",
    "    frequency = string.count(i)\n",
    "    print(str(i) + \": \" + str(frequency), end=\", \")"
   ]
  },
  {
   "cell_type": "code",
   "execution_count": null,
   "id": "82c0ebd9",
   "metadata": {},
   "outputs": [],
   "source": [
    "# 4. WAP to accept 2 string and check whether they are anagram or not eg) MARY ARMY anagram problem\n",
    "st1=\"mary\"\n",
    "st2=\"army\"\n",
    "st1.lower()\n",
    "st2.lower()\n",
    "if (len(st1)==len(st2)):\n",
    "    sort_st1=sorted(st1)\n",
    "    sort_st2=sorted(st2)\n",
    "    if sort_st1==sort_st2:\n",
    "        print(st1 +  \"and \"    +    st2    + \"both anagram strings\")\n",
    "    else:\n",
    "        print(st1 +     \"and\"    +   st2   + \" both  not anagram strings\")\n",
    "else:\n",
    "    print(st1  + \"and\" + st2 +  \"  both  not anagram strings\")"
   ]
  },
  {
   "cell_type": "code",
   "execution_count": null,
   "id": "a4b3c2b8",
   "metadata": {},
   "outputs": [],
   "source": [
    "# 5. WAP to reverse each word in a sentence Python is fun -->nohtyP si nuf\n",
    "def reverse(vakya):\n",
    "    shabda = vakya.split(\" \")\n",
    "    n_shabda = [word[::-1] for word in shabda]\n",
    "    n_vakya = \" \".join(n_shabda)\n",
    "    return n_vakya\n",
    "vakya=input(\"enter you want:\")\n",
    "print(reverse(vakya))\n"
   ]
  },
  {
   "cell_type": "code",
   "execution_count": null,
   "id": "b14fb235",
   "metadata": {},
   "outputs": [],
   "source": [
    "# 6. WAP program to find frequency of each character in given String\n",
    "string = input(\"enter string\")\n",
    "\n",
    "for i in string:\n",
    "    frequency = string.count(i)\n",
    "    print(str(i) + \": \" + str(frequency), end=\", \")"
   ]
  },
  {
   "cell_type": "code",
   "execution_count": null,
   "id": "02e0d1f5",
   "metadata": {},
   "outputs": [],
   "source": [
    "# 7. WAP to extract first alphabet from given sentence to form a new word\n",
    "\n",
    "user_input = input(\"enter you want string :\")\n",
    "words = user_input.split()\n",
    "charactor = [word[0] for word in words]\n",
    "\n",
    "print( \"   \".join(charactor))\n",
    "print(words)\n",
    "print(charactor)"
   ]
  },
  {
   "cell_type": "code",
   "execution_count": null,
   "id": "1088489e",
   "metadata": {},
   "outputs": [],
   "source": [
    "# 8. Star Pattern Programs\n",
    "n=5\n",
    "for i in range(n):\n",
    "    for j in range(1,i+1):\n",
    "        print(\"s\",end=\"\")\n",
    "    print(\"\\n\")    \n",
    "\n"
   ]
  },
  {
   "cell_type": "code",
   "execution_count": null,
   "id": "09c57beb",
   "metadata": {},
   "outputs": [],
   "source": [
    "# 9. star pattern regular \n",
    "n=int(input(\"enter number:\"))\n",
    "for i in range(n):\n",
    "    for j in range(0,i+1):\n",
    "        print(\"Q\",end=\" \")\n",
    "    print()"
   ]
  },
  {
   "cell_type": "code",
   "execution_count": null,
   "id": "138c344e",
   "metadata": {},
   "outputs": [],
   "source": [
    "#10. WAP to replace every character by its next subsequent character\n",
    "\n",
    "string=input(\"enter string you want:\")\n",
    "n_string=''.join(chr(ord(char)+1)for char in string)\n",
    "print(n_string)"
   ]
  },
  {
   "cell_type": "code",
   "execution_count": null,
   "id": "233778b0",
   "metadata": {},
   "outputs": [],
   "source": [
    "#11. write a Python program to count the number of characters (character frequency) ina string\n",
    "\n",
    "n=input(\"enter string\")\n",
    "s={}\n",
    "for i in n:\n",
    "    if i in s:\n",
    "        s[i]+=1\n",
    "    else:\n",
    "         s[i]=1\n",
    "print(\"charactors frequency occurs count is:\" + str(s))        "
   ]
  },
  {
   "cell_type": "code",
   "execution_count": null,
   "id": "731588dd",
   "metadata": {},
   "outputs": [],
   "source": [
    "# 12. Write a Python program to remove the characters which have odd index values of agiven string\n",
    "\n",
    "user=input(\"enter string you want:\")\n",
    "\n",
    "def r_odd_cha(user):\n",
    "    output= \" \"\n",
    "    for i in range(len(user)):\n",
    "        if i%2==0:\n",
    "            output=output+user[i]\n",
    "    return output\n",
    "print(r_odd_cha(user))        \n"
   ]
  },
  {
   "cell_type": "code",
   "execution_count": null,
   "id": "85754167",
   "metadata": {},
   "outputs": [],
   "source": [
    "# 13. Write a Python program to count the occurrences of each word in a given sentence.\n",
    "user=input(\"enter sentence:\")\n",
    "dict_word=dict()\n",
    "variable=user.split(\" \")\n",
    "for x in variable:\n",
    "    if x in dict_word:\n",
    "        dict_word[x]+=1\n",
    "    else:\n",
    "        dict_word[x]=1\n",
    "print(dict_word)        "
   ]
  },
  {
   "cell_type": "code",
   "execution_count": null,
   "id": "aafd5952",
   "metadata": {},
   "outputs": [],
   "source": [
    "# 14. Write a Python program to swap cases or toggle cases of a given string.\n",
    "\n",
    "string=\"india is MY COUNTRY\"            # in this problem if u have conversion UPPER TO LOWER\n",
    "                                                                            # lower to upper      \n",
    "print(string.swapcase())         "
   ]
  },
  {
   "cell_type": "code",
   "execution_count": null,
   "id": "3abe4762",
   "metadata": {},
   "outputs": [],
   "source": []
  },
  {
   "cell_type": "code",
   "execution_count": 1,
   "id": "eb9db15d",
   "metadata": {},
   "outputs": [
    {
     "ename": "NameError",
     "evalue": "name 'anagarm' is not defined",
     "output_type": "error",
     "traceback": [
      "\u001b[1;31m---------------------------------------------------------------------------\u001b[0m",
      "\u001b[1;31mNameError\u001b[0m                                 Traceback (most recent call last)",
      "\u001b[1;32m~\\AppData\\Local\\Temp\\ipykernel_14396\\3722486953.py\u001b[0m in \u001b[0;36m<module>\u001b[1;34m\u001b[0m\n\u001b[0;32m      7\u001b[0m         \u001b[0mprint\u001b[0m\u001b[1;33m(\u001b[0m\u001b[1;34m\"s1 & s2 not anagram string\"\u001b[0m\u001b[1;33m)\u001b[0m\u001b[1;33m\u001b[0m\u001b[1;33m\u001b[0m\u001b[0m\n\u001b[0;32m      8\u001b[0m \u001b[1;33m\u001b[0m\u001b[0m\n\u001b[1;32m----> 9\u001b[1;33m \u001b[0managarm\u001b[0m\u001b[1;33m(\u001b[0m\u001b[0ms1\u001b[0m\u001b[1;33m=\u001b[0m\u001b[0minput\u001b[0m\u001b[1;33m(\u001b[0m\u001b[1;34m\"enter string:\"\u001b[0m\u001b[1;33m)\u001b[0m\u001b[1;33m,\u001b[0m\u001b[0ms2\u001b[0m\u001b[1;33m=\u001b[0m\u001b[0minput\u001b[0m\u001b[1;33m(\u001b[0m\u001b[1;34m\"enter string:\"\u001b[0m\u001b[1;33m)\u001b[0m\u001b[1;33m)\u001b[0m\u001b[1;33m\u001b[0m\u001b[1;33m\u001b[0m\u001b[0m\n\u001b[0m",
      "\u001b[1;31mNameError\u001b[0m: name 'anagarm' is not defined"
     ]
    }
   ],
   "source": [
    "from collections import Counter\n",
    "def anagram(s1,s2):\n",
    "    \n",
    "    if counter(s1)==counter(s2):\n",
    "        print(\"s1 & s2 are anagram string\")\n",
    "    else:\n",
    "        print(\"s1 & s2 not anagram string\")\n",
    "    \n",
    "anagarm(s1=input(\"enter string:\"),s2=input(\"enter string:\"))\n"
   ]
  },
  {
   "cell_type": "code",
   "execution_count": null,
   "id": "2026934e",
   "metadata": {},
   "outputs": [],
   "source": []
  }
 ],
 "metadata": {
  "kernelspec": {
   "display_name": "Python 3 (ipykernel)",
   "language": "python",
   "name": "python3"
  },
  "language_info": {
   "codemirror_mode": {
    "name": "ipython",
    "version": 3
   },
   "file_extension": ".py",
   "mimetype": "text/x-python",
   "name": "python",
   "nbconvert_exporter": "python",
   "pygments_lexer": "ipython3",
   "version": "3.9.13"
  }
 },
 "nbformat": 4,
 "nbformat_minor": 5
}
