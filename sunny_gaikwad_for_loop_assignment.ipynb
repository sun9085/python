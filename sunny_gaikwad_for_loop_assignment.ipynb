{
 "cells": [
  {
   "cell_type": "code",
   "execution_count": null,
   "id": "63e933f1",
   "metadata": {},
   "outputs": [],
   "source": [
    "# 1. WAP to print even numbers from 121 to 229 using for loop. \n",
    "\n",
    "for i in range(121,229):\n",
    "    if i%2==0:\n",
    "        print(\"even number:\",i)\n",
    " "
   ]
  },
  {
   "cell_type": "code",
   "execution_count": null,
   "id": "62f61967",
   "metadata": {},
   "outputs": [],
   "source": [
    "# 2. WAP to print odd numbers from 521 to 229 using while loop\n",
    "\n",
    "for x in range(229,512):\n",
    "    if x%3==0:\n",
    "        print(\"odd numbers:\",x)"
   ]
  },
  {
   "cell_type": "code",
   "execution_count": null,
   "id": "b7322859",
   "metadata": {},
   "outputs": [],
   "source": [
    "# 3. WAP to show the use of break statement ( in for loop)\n",
    "\n",
    "for x in range(0,50):\n",
    "    if x==15:\n",
    "        break\n",
    "print(x)\n",
    "    \n"
   ]
  },
  {
   "cell_type": "code",
   "execution_count": null,
   "id": "0df26885",
   "metadata": {},
   "outputs": [],
   "source": [
    "\n",
    "# 4. WAP to find GCD and LCM of given number?\n",
    "\n",
    "m=int(input(\"enter number_m:\"))\n",
    "n=int(input(\"enter number_n:\"))\n",
    "d=min(m,n)\n",
    "while True:\n",
    "    if m%d==0 and n%d==0:\n",
    "        print(\"find number is gdc :\",d)\n",
    "        break\n",
    "    else:\n",
    "        d=d-1\n",
    "lcm=m*n/d\n",
    "print(\"lcm is :\",lcm)"
   ]
  },
  {
   "cell_type": "code",
   "execution_count": null,
   "id": "d6a29b7b",
   "metadata": {},
   "outputs": [],
   "source": [
    "# 5.Write a Python program to print all alphabets from a to z using for loop\n",
    "\n",
    "alphabets=[ 'A', 'B', 'C', 'D', 'E', 'F', 'G','H', 'I', 'J', 'K', 'L', 'M', 'N',\n",
    "           'O', 'P', 'Q', 'R', 'S','T' ,'U', 'V', 'W', 'X', 'Y','Z' ]\n",
    "\n",
    "for x in alphabets:\n",
    "    print(x)"
   ]
  },
  {
   "cell_type": "code",
   "execution_count": null,
   "id": "a3bd309d",
   "metadata": {},
   "outputs": [],
   "source": [
    "# 6.Write a Python program to find sum of all even numbers between 1 to n.\n",
    "\n",
    "n=int(input(\"enter numbers :\"))\n",
    "sum=0\n",
    "for i in range(1,n+1,1):\n",
    "    if i%2==0:\n",
    "        sum=sum+n\n",
    "        print(\"sum are :\",i,\"sum is :\",sum)"
   ]
  },
  {
   "cell_type": "code",
   "execution_count": null,
   "id": "56240169",
   "metadata": {},
   "outputs": [],
   "source": [
    "# 7.Write a Python program to find sum of all odd numbers between 1 to n\n",
    "n=int(input(\"enter numbers :\"))\n",
    "\n",
    "sum=0\n",
    "for x in range(1,n+1,1):\n",
    "    if x%2!=0:\n",
    "        sum=sum+n\n",
    "        print(\"odd num is:\",n,\"sum is :\",x)"
   ]
  },
  {
   "cell_type": "code",
   "execution_count": null,
   "id": "f7a74084",
   "metadata": {},
   "outputs": [],
   "source": [
    "#8. Write a Python program to count number of digits in any number\n",
    "n=int(input(\"enter number:\"))\n",
    "count=0\n",
    "while n !=0:\n",
    "    n//=10\n",
    "    count+=1\n",
    "print(\"number in digits are:\",count)"
   ]
  },
  {
   "cell_type": "code",
   "execution_count": null,
   "id": "1da5434e",
   "metadata": {},
   "outputs": [],
   "source": [
    "# 9. Write a Python program to calculate product of digits of any number\n",
    "u=int(input(\"enter number is:\"))\n",
    "b=u*(u)\n",
    "print(\"product of any number is :\",b)"
   ]
  },
  {
   "cell_type": "code",
   "execution_count": null,
   "id": "117c28ca",
   "metadata": {},
   "outputs": [],
   "source": [
    "# 10. Write a Python program to find frequency of each digit in a given integer.\n",
    "n=int(input(\"enter number is:\"))\n",
    "l=[]\n",
    "l.append(n)\n",
    "count=0\n",
    "while n<=0:\n",
    "    n+=1\n",
    "    count+=1\n",
    "    print(\"digit count\")\n",
    "print(l)\n",
    "print(count)\n",
    "    "
   ]
  },
  {
   "cell_type": "code",
   "execution_count": null,
   "id": "88f8940a",
   "metadata": {},
   "outputs": [],
   "source": [
    "#10. Write a Python program to find frequency of each digit in a given intege\n",
    "num=input(\"enter num\")\n",
    "d=input()\n",
    "c=0\n",
    "for i in num:\n",
    "    if i==d:\n",
    "        c=+1\n",
    "print(c/len(num))        "
   ]
  },
  {
   "cell_type": "code",
   "execution_count": null,
   "id": "d0981f44",
   "metadata": {},
   "outputs": [],
   "source": [
    "# 11. Find all prime number between 400 to 300;\n",
    "numx=400\n",
    "numy=300\n",
    "for a in range(numx,numy+1):\n",
    "    for i in range(2,a):\n",
    "        if a%i==0:\n",
    "            break\n",
    "        else:\n",
    "            print(a)"
   ]
  },
  {
   "cell_type": "code",
   "execution_count": null,
   "id": "6e096135",
   "metadata": {},
   "outputs": [],
   "source": [
    "#12. WAP to print table of given no\n",
    "n=int(input(\"enter number:\"))\n",
    "for i in range(1,11):\n",
    "    print((n*i))"
   ]
  },
  {
   "cell_type": "code",
   "execution_count": null,
   "id": "f8e308ba",
   "metadata": {},
   "outputs": [],
   "source": [
    "#13. WAP to print squares from 1 to20\n",
    "n=1\n",
    "\n",
    "while n<=21:\n",
    "    print(\"sq:\",(n*n))\n",
    "    n=n+1\n",
    "   "
   ]
  },
  {
   "cell_type": "code",
   "execution_count": null,
   "id": "361a6a6e",
   "metadata": {},
   "outputs": [],
   "source": [
    "#14. WAP to accept base and index from user and calculates power\n",
    "b=int(input(\"enter num\"))\n",
    "ind=int(input(\"enter num\"))\n",
    "power=b**ind\n",
    "print(power)\n"
   ]
  },
  {
   "cell_type": "code",
   "execution_count": null,
   "id": "2d563205",
   "metadata": {},
   "outputs": [],
   "source": [
    "# 15. 1!+2!+3!.........+n! find s (factorial problem)\n",
    "n=int(input(\"entr num:\"))\n",
    "f=1\n",
    "s=0\n",
    "for i in range(1,n+1):\n",
    "    f=f*i\n",
    "    s=s+f\n",
    "print(\"factorial is:\",f)\n",
    "print(\"sum:\",sum)\n"
   ]
  },
  {
   "cell_type": "code",
   "execution_count": null,
   "id": "f6b5cdd7",
   "metadata": {},
   "outputs": [],
   "source": [
    "# 16. WAP to check given no is Krishnamurthy or noteg) 153=1!+5!+3!=153\n",
    "# Python program to check if the number is an Armstrong number or not\n",
    "\n",
    "\n",
    "num = int(input(\"Enter a number: \"))\n",
    "sum = 0\n",
    "temp = num\n",
    "while temp > 0:\n",
    "   digit = temp % 10\n",
    "   sum += digit ** 3\n",
    "   temp //= 10\n",
    "if num == sum:\n",
    "   print(num,\"is an Armstrong number\")\n",
    "else:\n",
    "   print(num,\"is not an Armstrong number\")\n",
    "\n"
   ]
  },
  {
   "cell_type": "code",
   "execution_count": null,
   "id": "046a0e43",
   "metadata": {},
   "outputs": [],
   "source": [
    "#17. WAP to check given no is palindrome or not. Original =ReverseEg 1221?\n",
    "     \n",
    "def isPalindrome(s):\n",
    "    return s == s[::-1]\n",
    "s = input(\"enter palindrome word:\")            ## malyalam \n",
    "ans = isPalindrome(s)                          ## ana                          \n",
    "if ans: \n",
    "        print(\"Yes\")\n",
    "else:\n",
    "    print(\"No\")     "
   ]
  },
  {
   "cell_type": "code",
   "execution_count": null,
   "id": "40b9778a",
   "metadata": {},
   "outputs": [],
   "source": [
    "#18. WAP to check given no is automorphic or notinput n=2 output Automorphicas 25*25=625?\n",
    "\n",
    "num1=int(input(\"enter num:\"))\n",
    "num2=num1\n",
    "sq=num1*num2\n",
    "print(\"num1 is:\",num1)\n",
    "print(\"sq  is :\",sq)\n",
    "num1=str(num1)\n",
    "sq=str(sq)\n",
    "if sq.endswith(num1):\n",
    "    print(\"enter number is automorphic :\")\n",
    "else:\n",
    "    print(\"enter number is not automorphic\")"
   ]
  },
  {
   "cell_type": "code",
   "execution_count": null,
   "id": "396fe61f",
   "metadata": {},
   "outputs": [],
   "source": [
    "#19. WAP to find given number is Harshad/Niven number or not?\n"
   ]
  },
  {
   "cell_type": "code",
   "execution_count": null,
   "id": "f1b8f056",
   "metadata": {},
   "outputs": [],
   "source": [
    "# 20. Print all palindrome numbers from 100 to 500?\n",
    "for number in range(100,500):\n",
    "        var=number\n",
    "        reverse=0\n",
    "        while number>0:\n",
    "            digit=number%10\n",
    "            reverse=reverse*10+digit\n",
    "            number=number//10\n",
    "        if var==reverse:\n",
    "            print(\"var\",var)\n",
    "        "
   ]
  },
  {
   "cell_type": "code",
   "execution_count": 6,
   "id": "2917fb04",
   "metadata": {},
   "outputs": [
    {
     "name": "stdout",
     "output_type": "stream",
     "text": [
      "enter number:12345\n",
      "Yes\n",
      "Yes\n"
     ]
    }
   ],
   "source": [
    "# Python program to check\n",
    "# if a number is Harshad\n",
    "# Number or not.\n",
    "n=int(input(\"enter number:\"))\n",
    "def checkHarshad( n ) :\n",
    "\tsum = 0\n",
    "\ttemp = n\n",
    "\twhile temp > 0 :\n",
    "\t\tsum = sum + temp % 10\n",
    "\t\ttemp = temp // 10\n",
    "\t# Return true if sum of\n",
    "\t# digits is multiple of n\n",
    "\treturn n % sum == 0\n",
    "\n",
    "# Driver Code\n",
    "if(checkHarshad(n)) : print(\"Yes\")\n",
    "else : print (\"No\")\n",
    "\n",
    "if (checkHarshad(n)) : print(\"Yes\")\n",
    "else : print (\"No\")\n",
    "\t\n",
    "# This code is contributed\n",
    "# by Nikita Tiwari\n"
   ]
  },
  {
   "cell_type": "code",
   "execution_count": null,
   "id": "1411eaea",
   "metadata": {},
   "outputs": [],
   "source": []
  }
 ],
 "metadata": {
  "kernelspec": {
   "display_name": "Python 3 (ipykernel)",
   "language": "python",
   "name": "python3"
  },
  "language_info": {
   "codemirror_mode": {
    "name": "ipython",
    "version": 3
   },
   "file_extension": ".py",
   "mimetype": "text/x-python",
   "name": "python",
   "nbconvert_exporter": "python",
   "pygments_lexer": "ipython3",
   "version": "3.9.13"
  }
 },
 "nbformat": 4,
 "nbformat_minor": 5
}
