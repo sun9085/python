{
 "cells": [
  {
   "cell_type": "code",
   "execution_count": null,
   "id": "71b915e4",
   "metadata": {},
   "outputs": [],
   "source": [
    "# 1. WAP to remove to find duplicates elements in list,\n",
    "l=[\"omkar\",\"kalia\",112,500,\"80\",45,\"omkar\",112]\n",
    "final=[]\n",
    "for i in l:\n",
    "    if i not in final:\n",
    "        final.append(i)\n",
    "    print(\"final_list:\",final)    \n",
    "\n",
    "# using for loop\n",
    "\n",
    "l=[1,2,3,4,5,6,3,4,2,5.5]\n",
    "f=[]\n",
    "for x in l:\n",
    "    if x not in f:\n",
    "        f.append(x)\n",
    "print(\"final_list:\",f)"
   ]
  },
  {
   "cell_type": "code",
   "execution_count": null,
   "id": "4fc842d3",
   "metadata": {},
   "outputs": [],
   "source": [
    "# 2. WAP to sort the given list\n",
    "\n",
    "list1=[10,40,80,100,90,20,30]\n",
    "list1.sort()\n",
    "print(list1)"
   ]
  },
  {
   "cell_type": "code",
   "execution_count": null,
   "id": "684ad4b2",
   "metadata": {},
   "outputs": [],
   "source": [
    "# 3. WAP to create a list such that new list contains alternate even and odd from given list\n",
    "l=[]\n",
    "n=int(input(\"enter total number of item:\"))\n",
    "for x in range(1,n+1):\n",
    "    a=int(input(\"enter item:\"))\n",
    "    l.append(a)\n",
    "print(l)\n",
    "even=[]\n",
    "odd=[]\n",
    "for i in l:\n",
    "    if i%2==0:\n",
    "        even.append(i)\n",
    "            \n",
    "    else:\n",
    "        odd.append(i)\n",
    "print(\"even list:\",even)\n",
    "print(\"odd list:\",odd)"
   ]
  },
  {
   "cell_type": "code",
   "execution_count": null,
   "id": "a1afbe97",
   "metadata": {},
   "outputs": [],
   "source": [
    "# 4.Write a Python program to get the largest number from a list.\n",
    "l=[10,80,900,54540,5565656565,2322,15445]\n",
    "l.sort()\n",
    "print(l)\n",
    "mini=l[0]\n",
    "print(\" first mini item:\",mini)\n",
    "maxi=l[-1]\n",
    "print(\" last maxi  item :\",maxi)\n",
    "seccond_large=l[-2]\n",
    "print(\"second largest:\",seccond_large)\n"
   ]
  },
  {
   "cell_type": "code",
   "execution_count": null,
   "id": "1ce321b3",
   "metadata": {},
   "outputs": [],
   "source": [
    "#5. Write a Python program to count the number of strings where the string length is 2 or more\n",
    "#and the first and last character are same from a given list of strings.\n",
    "\n",
    "list1=['mahalakshami', 'govinda', 'pinto', 'sasad', 'silencer']\n",
    "count = 0\n",
    "\n",
    "for word in list1:\n",
    "    if len(word) > 1 and word[0] == word[-1]:\n",
    "            count += 1\n",
    "print(count)\n",
    "\n",
    "print(list1)\n"
   ]
  },
  {
   "cell_type": "code",
   "execution_count": null,
   "id": "773dee9f",
   "metadata": {},
   "outputs": [],
   "source": [
    "# 6. Write a Python program to remove duplicates from a list.\n",
    "a = [\"sunny\",\"sham\",\"ram\",10,10.1,\"sunny\",\"ram\"]\n",
    "\n",
    "repeated = set()\n",
    "original = []\n",
    "for x in a:\n",
    "    if x not in original:\n",
    "        original.append(x)\n",
    "        repeated.add(x)\n",
    "\n",
    "print(repeated)"
   ]
  },
  {
   "cell_type": "code",
   "execution_count": null,
   "id": "0c964ede",
   "metadata": {},
   "outputs": [],
   "source": [
    "# 7. Write a Python program to find the list of words that are longer than given words\n",
    "\n",
    "# solve this problem by using user define function\n",
    "\n",
    "def long_w(a,string):\n",
    "    empty_list=[]\n",
    "    text=string.split(\" \") # split the string \n",
    "    for x in text:\n",
    "        if len(x)>a:\n",
    "            empty_list.append(x)\n",
    "    return(empty_list)\n",
    "n=int(input(\"enter number u want string greater than :\"))\n",
    "string=input(\"enter string is here:\")\n",
    "print(long_w(2,string))"
   ]
  },
  {
   "cell_type": "code",
   "execution_count": null,
   "id": "915bcd24",
   "metadata": {},
   "outputs": [],
   "source": [
    "# 8. Write a Python function that takes two lists and returns True if they have at least one common member.\n",
    "\n",
    "def common_member(a,b):\n",
    "    result=False\n",
    "    for x in a:\n",
    "        for y in b:\n",
    "            if x==y :\n",
    "                result=True\n",
    "                return result\n",
    "    return result\n",
    "a=[10,20,30,40,50]\n",
    "b=[90,70,80,55]\n",
    "print(common_member(a,b))"
   ]
  },
  {
   "cell_type": "code",
   "execution_count": 1,
   "id": "407e4cad",
   "metadata": {},
   "outputs": [
    {
     "name": "stdout",
     "output_type": "stream",
     "text": [
      "['red', 'green', 'yellow', 'black', 'blue', 'white']\n",
      "['red', 'blue', 'white']\n"
     ]
    }
   ],
   "source": [
    "#9. Write a Python program to print a specified list after removing the 0th, 4th and 5thelements. Go to the editor\n",
    "\n",
    "list5=[\"red\",\"green\",\"yellow\",\"black\",\"blue\",\"white\"]\n",
    "print(list5)\n",
    "list5=[x for(i,x)in enumerate(list5)if(i)not in(1,2,3)]  #1,2,3 are not print\n",
    "print(list5)\n"
   ]
  },
  {
   "cell_type": "code",
   "execution_count": null,
   "id": "86717257",
   "metadata": {},
   "outputs": [],
   "source": [
    "# 10. Sample List : ['Red', 'Green', 'White', 'Black', 'Pink', 'Yellow']\n",
    "list1 = ['Red', 'Green', 'White', 'Black', 'Pink', 'Yellow']\n",
    "n_list=[]\n",
    "a=(list.pop(\"green\",\"white\",\"black\"))\n",
    "print(n_list.append(a))\n",
    "print(\"original list:\",list1)\n",
    "print(\"new list:\",a)"
   ]
  },
  {
   "cell_type": "code",
   "execution_count": 2,
   "id": "df5e2c40",
   "metadata": {},
   "outputs": [
    {
     "name": "stdout",
     "output_type": "stream",
     "text": [
      "['green', 'black', 'white']\n"
     ]
    }
   ],
   "source": [
    "#11. Expected Output : ['Green', 'White', 'Black']\n",
    "list6=[\"red\",\"green\",\"yellow\",\"black\",\"blue\",\"white\"]\n",
    "list6=[x for (i,x )in enumerate(list6)if i not in(0,2,4)]\n",
    "print(list6)"
   ]
  },
  {
   "cell_type": "code",
   "execution_count": null,
   "id": "7112dcf0",
   "metadata": {},
   "outputs": [],
   "source": [
    "# 12. Write a Python program to print the numbers of a specified list after removing even\n",
    "#numbers from it.\n",
    "\n",
    "list1=[\"one \",\"two\",\"three\",\"four\",\"five\",\"six\"]\n",
    "\n",
    "#index= \"0\",   \"1\"   \"2\"    \"3\"      \"4\"   \"5\"\n",
    "list1=[x for (i,x)in enumerate(list1)if(i)not in (0,2,4,5)] # 0,2,4,5 are not print \n",
    "print(list1) # print 1,3\n"
   ]
  }
 ],
 "metadata": {
  "kernelspec": {
   "display_name": "Python 3 (ipykernel)",
   "language": "python",
   "name": "python3"
  },
  "language_info": {
   "codemirror_mode": {
    "name": "ipython",
    "version": 3
   },
   "file_extension": ".py",
   "mimetype": "text/x-python",
   "name": "python",
   "nbconvert_exporter": "python",
   "pygments_lexer": "ipython3",
   "version": "3.9.13"
  }
 },
 "nbformat": 4,
 "nbformat_minor": 5
}
