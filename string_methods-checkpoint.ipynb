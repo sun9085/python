{
 "cells": [
  {
   "cell_type": "code",
   "execution_count": null,
   "id": "c782cf40",
   "metadata": {},
   "outputs": [],
   "source": [
    "s=\"deepa medha\"\n",
    "sorted(s)\n",
    "\n"
   ]
  },
  {
   "cell_type": "code",
   "execution_count": 1,
   "id": "065a44e8",
   "metadata": {},
   "outputs": [
    {
     "data": {
      "text/plain": [
       "'gaikwad sunny'"
      ]
     },
     "execution_count": 1,
     "metadata": {},
     "output_type": "execute_result"
    }
   ],
   "source": [
    "string=\"gaikwad sunny\"\n",
    "#string.upper()                   # convert all charactor in string into capital format\n",
    "#string.lower()                   # conver all charactor in string in lower order\n",
    "#string.capitalize()              # first word of string is capitalize\n",
    "#string.casefold()                # casefold is case sensetive in python\n",
    "#string.count(\"w\")                # count a charactor occurence in string\n",
    "#string.endswith(\"y\")             # its chek string endswith charactor u give :boolean value like true / false\n",
    "#string.find(\"y\")                 # find index of charactor in string\n",
    "#print(len(string))               # len inbuilt function show the legnth of string\n",
    "#string.format()                  # format method is place holder in string \n",
    "#string.index(\"d\")                # imdex method give indec of charactor in string \n",
    "#string.isalnum()                 # isalnum method show string in charactors\n",
    "#string=\"12345\"\n",
    "#string.isnumeric()                # isnumeric method show string contain numbers if yes : true\n",
    "#string=\"sunny\"\n",
    "#string.isalpha()                  # isalpha() method indicate string contains alphabates\n",
    "string"
   ]
  },
  {
   "cell_type": "code",
   "execution_count": null,
   "id": "bc0b903d",
   "metadata": {},
   "outputs": [],
   "source": []
  }
 ],
 "metadata": {
  "kernelspec": {
   "display_name": "Python 3 (ipykernel)",
   "language": "python",
   "name": "python3"
  },
  "language_info": {
   "codemirror_mode": {
    "name": "ipython",
    "version": 3
   },
   "file_extension": ".py",
   "mimetype": "text/x-python",
   "name": "python",
   "nbconvert_exporter": "python",
   "pygments_lexer": "ipython3",
   "version": "3.9.13"
  }
 },
 "nbformat": 4,
 "nbformat_minor": 5
}
