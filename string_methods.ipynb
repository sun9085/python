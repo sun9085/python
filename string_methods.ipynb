{
 "cells": [
  {
   "cell_type": "code",
   "execution_count": null,
   "id": "3cb75a31",
   "metadata": {},
   "outputs": [],
   "source": [
    "s=\"deepa medha\"\n",
    "sorted(s)\n",
    "\n"
   ]
  },
  {
   "cell_type": "code",
   "execution_count": 14,
   "id": "7c309fc2",
   "metadata": {},
   "outputs": [
    {
     "name": "stdout",
     "output_type": "stream",
     "text": [
      "1x2x3x4x5\n",
      "d\n"
     ]
    }
   ],
   "source": [
    "string=\"gaikwad sunny\"\n",
    "#string.upper()                   # convert all charactor in string into capital format.\n",
    "#string.lower()                   # conver all charactor in string in lower order.\n",
    "#string.capitalize()              # first word of string is capitalize.\n",
    "#string.casefold()                # casefold is case sensetive in python.\n",
    "#string.count(\"w\")                # count a charactor occurence in string.\n",
    "#string.endswith(\"y\")             # its chek string endswith charactor u give :boolean value like true / false.\n",
    "#string.startswith(\"g\")           # startswith check first charctor in string .\n",
    "#string.find(\"y\")                 # find index of charactor in string.\n",
    "#print(len(string))               # len inbuilt function show the legnth of string.\n",
    "#string.format()                  # format method is place holder in string .\n",
    "#string.index(\"d\")                # imdex method give indec of charactor in string. \n",
    "#string.isalnum()                 # isalnum method show string in charactors.\n",
    "#string=\"12345\"\n",
    "#string.isdigit()                  # isdigit() chek digits in str\n",
    "#string.isnumeric()               # isnumeric() method show string contain numbers if yes : true.\n",
    "#string=\"sunny\"\n",
    "#string.isalpha()                 # isalpha() method indicate string contains alphabates.\n",
    "#string.isascii()                 # isascii() method only aplicalbe for string its refer charactors only.\n",
    "#string.isdecimal()                # isdecimal()  method   if string contain s=\"\\u0030\" then its true otherwise false.           \n",
    "#string.title()                   # title() method is each word  do is capital.\n",
    "#string.isidentifier()            # isidentifier() if string not keyword then its identifier contains sunny_1245,al_5,a5_k\n",
    "#string.isspace()                 # chek space in str\n",
    "#string=\"                 python         \"\n",
    "#string.lstrip()                    # charactors shift left side\n",
    "#string.rstrip()                    # charactors shift right side\n",
    "#print(len(string))\n",
    "string.join(\"x\")\n",
    "string\n",
    "print(\"x\".join('12345'))\n",
    "print('12345'.join('d'))"
   ]
  },
  {
   "cell_type": "raw",
   "id": "2d9466b3",
   "metadata": {},
   "source": [
    "s=\"gaikwad sun\"\n",
    "s1=\""
   ]
  }
 ],
 "metadata": {
  "kernelspec": {
   "display_name": "Python 3 (ipykernel)",
   "language": "python",
   "name": "python3"
  },
  "language_info": {
   "codemirror_mode": {
    "name": "ipython",
    "version": 3
   },
   "file_extension": ".py",
   "mimetype": "text/x-python",
   "name": "python",
   "nbconvert_exporter": "python",
   "pygments_lexer": "ipython3",
   "version": "3.9.13"
  }
 },
 "nbformat": 4,
 "nbformat_minor": 5
}
