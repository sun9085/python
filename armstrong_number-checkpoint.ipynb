{
 "cells": [
  {
   "cell_type": "code",
   "execution_count": 5,
   "id": "d3dc2d79",
   "metadata": {},
   "outputs": [
    {
     "ename": "SyntaxError",
     "evalue": "invalid syntax (2845781849.py, line 10)",
     "output_type": "error",
     "traceback": [
      "\u001b[1;36m  File \u001b[1;32m\"C:\\Users\\nikhilbhosale\\AppData\\Local\\Temp\\ipykernel_14220\\2845781849.py\"\u001b[1;36m, line \u001b[1;32m10\u001b[0m\n\u001b[1;33m    if ==a:\u001b[0m\n\u001b[1;37m       ^\u001b[0m\n\u001b[1;31mSyntaxError\u001b[0m\u001b[1;31m:\u001b[0m invalid syntax\n"
     ]
    }
   ],
   "source": [
    "# arnstrong number \n",
    "\n",
    "n=int(input(\"enter number:\"))\n",
    "a=n\n",
    "sum=0\n",
    "while n>0:\n",
    "    r=n%10\n",
    "    sum=sum+r**3\n",
    "    n=n//10\n",
    "if sum==a:\n",
    "    print(\"given number is amstrong number\")\n",
    "else:\n",
    "    print(\"given number is not armstrong number !!\")"
   ]
  },
  {
   "cell_type": "code",
   "execution_count": null,
   "id": "b694fdc7",
   "metadata": {},
   "outputs": [],
   "source": []
  }
 ],
 "metadata": {
  "kernelspec": {
   "display_name": "Python 3 (ipykernel)",
   "language": "python",
   "name": "python3"
  },
  "language_info": {
   "codemirror_mode": {
    "name": "ipython",
    "version": 3
   },
   "file_extension": ".py",
   "mimetype": "text/x-python",
   "name": "python",
   "nbconvert_exporter": "python",
   "pygments_lexer": "ipython3",
   "version": "3.9.13"
  }
 },
 "nbformat": 4,
 "nbformat_minor": 5
}
