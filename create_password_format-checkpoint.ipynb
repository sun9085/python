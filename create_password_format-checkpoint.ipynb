{
 "cells": [
  {
   "cell_type": "code",
   "execution_count": null,
   "id": "ab914ea6",
   "metadata": {},
   "outputs": [],
   "source": [
    "num=int(input(\"Enter the number:- \"))\n",
    "sum=0\n",
    "while num>0:         #1234>0               123>0            12>0            1>0\n",
    "    n=num%10         #1234%10-->n=4        123%10---> n=3   12%10-->n=2     1%10-->n=1\n",
    "    num=num//10      #1234//10-->num=123   123//10-->num=12 12//10-->num=1  1//10---> num=0\n",
    "    sum=sum+n        #sum=0+4=4            sum=4+3=7        sum=7+2=9       sum=9+1=10\n",
    "print(\"Total sum of digits in given no.:- \",sum)\n"
   ]
  },
  {
   "cell_type": "code",
   "execution_count": 18,
   "id": "8758957a",
   "metadata": {},
   "outputs": [
    {
     "name": "stdout",
     "output_type": "stream",
     "text": [
      "Enter the string:-78956-\n",
      "string is not number\n"
     ]
    }
   ],
   "source": [
    "str1=input(\"Enter the string:-\")\n",
    "if str1[0]==(\"+\") or str1[0]==(\"-\"):\n",
    "    x=str1[1:]\n",
    "    if x.isdigit():\n",
    "        print(\"string is number\")\n",
    "    else:\n",
    "        print(\"string is not number\")\n",
    "elif str1.isdigit():\n",
    "    print(\"string is number\")\n",
    "else:\n",
    "    print(\"string is not number\")\n"
   ]
  },
  {
   "cell_type": "code",
   "execution_count": 46,
   "id": "b5a78975",
   "metadata": {},
   "outputs": [
    {
     "name": "stdout",
     "output_type": "stream",
     "text": [
      "Enter the username:- @123456789\n",
      "Username is invalid\n",
      "Please enter the alphabets\n"
     ]
    }
   ],
   "source": [
    "username=input(\"Enter the username:- \")\n",
    "alpha=[]\n",
    "digit=[]\n",
    "space=[]\n",
    "special=[]\n",
    "if len(username)>=8:\n",
    "    if username[0]==\"@\":\n",
    "        un=username[1:]\n",
    "        for letter in un:\n",
    "            if letter.isalpha():\n",
    "                alpha.append(letter)\n",
    "            elif letter.isdigit():\n",
    "                digit.append(letter)\n",
    "            elif letter.isspace():\n",
    "                space.append(letter)\n",
    "            else:\n",
    "                special.append(letter)\n",
    "\n",
    "if len(username)>=8 and username[0]==\"@\":\n",
    "    if len(alpha)>=1 and len(digit)>=1 and len(space)==0:\n",
    "        print(\"Username is valid\")\n",
    "    else:\n",
    "        print(\"Username is invalid\")\n",
    "        if len(alpha)<1:\n",
    "            print(\"Please enter the alphabets\")\n",
    "        if len(digit)<1:\n",
    "            print(\"Please enter the digits\")\n",
    "        if len(space)>0:\n",
    "            print(\"Please remove the space\")\n",
    "else:\n",
    "    if len(username)<8:\n",
    "        print(\"Please enter more than 8 characters\")\n",
    "    if username[0]!=\"@\":\n",
    "        print(\"Please enter @ at the beginning\")"
   ]
  },
  {
   "cell_type": "code",
   "execution_count": null,
   "id": "e6fe3488",
   "metadata": {},
   "outputs": [],
   "source": []
  }
 ],
 "metadata": {
  "kernelspec": {
   "display_name": "Python 3 (ipykernel)",
   "language": "python",
   "name": "python3"
  },
  "language_info": {
   "codemirror_mode": {
    "name": "ipython",
    "version": 3
   },
   "file_extension": ".py",
   "mimetype": "text/x-python",
   "name": "python",
   "nbconvert_exporter": "python",
   "pygments_lexer": "ipython3",
   "version": "3.9.13"
  }
 },
 "nbformat": 4,
 "nbformat_minor": 5
}
