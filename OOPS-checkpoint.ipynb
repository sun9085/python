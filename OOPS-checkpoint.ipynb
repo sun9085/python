{
 "cells": [
  {
   "cell_type": "code",
   "execution_count": 3,
   "id": "91c061b3",
   "metadata": {},
   "outputs": [
    {
     "name": "stdout",
     "output_type": "stream",
     "text": [
      "Object created\n"
     ]
    }
   ],
   "source": [
    "#constructor\n",
    "class Student:\n",
    "    def __init__(self):\n",
    "        pass\n",
    "    \n",
    "def main():\n",
    "    student=Student()\n",
    "    print(\"Object created\")\n",
    "    \n",
    "if __name__==\"__main__\":\n",
    "    main()"
   ]
  },
  {
   "cell_type": "code",
   "execution_count": 9,
   "id": "1f294cc8",
   "metadata": {},
   "outputs": [
    {
     "name": "stdout",
     "output_type": "stream",
     "text": [
      "Ram 24\n",
      "Sham 25\n",
      "New English Medium School New English Medium School New English Medium School\n"
     ]
    }
   ],
   "source": [
    "#class varaible\n",
    "class Student:\n",
    "    school_name=\"New English Medium School\"     # class varibale  = school_name\n",
    "    def __init__(self,name,age):                # class variable = name,age\n",
    "        self.name=name \n",
    "        self.age=age\n",
    "    \n",
    "def main():\n",
    "    student1=Student(\"Ram\",24)\n",
    "    student2=Student(\"Shyam\",25)\n",
    "    print(student1.name,student1.age)\n",
    "    print(student2.name,student2.age)\n",
    "    print(student1.school_name,student2.school_name,Student.school_name)\n",
    "    \n",
    "if __name__==\"__main__\":\n",
    "    main()"
   ]
  },
  {
   "cell_type": "code",
   "execution_count": 19,
   "id": "e1f16a1f",
   "metadata": {},
   "outputs": [
    {
     "name": "stdout",
     "output_type": "stream",
     "text": [
      "Ram 24 100\n",
      "Successful\n",
      "Sham 25 98\n"
     ]
    }
   ],
   "source": [
    "#getter setter\n",
    "class Student:\n",
    "    school_name=\"New English Medium School\"\n",
    "    def __init__(self,name,age,marks):\n",
    "        self.name=name\n",
    "        self.age=age\n",
    "        self.__marks=marks\n",
    "    \n",
    "    def get_marks(self):\n",
    "        return self.__marks\n",
    "    \n",
    "    def set_marks(self,marks):\n",
    "        if self.age<20:\n",
    "            print(\"Not allowed\")\n",
    "        else:\n",
    "            self.__marks=marks\n",
    "            print(\"Successful\")\n",
    "    \n",
    "def main():\n",
    "    student1=Student(\"Ram\",24,100)\n",
    "    student2=Student(\"Shyam\",25,95)\n",
    "    print(student1.name,student1.age,student1.get_marks())\n",
    "    student2.set_marks(98)\n",
    "    print(student2.name,student2.age,student2.get_marks())\n",
    "    \n",
    "if __name__==\"__main__\":\n",
    "    main()"
   ]
  },
  {
   "cell_type": "code",
   "execution_count": 26,
   "id": "662d6154",
   "metadata": {},
   "outputs": [
    {
     "name": "stdout",
     "output_type": "stream",
     "text": [
      "Ram 24 100\n",
      "Sham 25 95\n"
     ]
    }
   ],
   "source": [
    "#name mangling\n",
    "class Student:\n",
    "    school_name=\"New English Medium School\"\n",
    "    def __init__(self,name,age,marks):\n",
    "        self.name=name\n",
    "        self.age=age\n",
    "        self.__marks=marks\n",
    "    \n",
    "def main():\n",
    "    student1=Student(\"Ram\",24,100)\n",
    "    student2=Student(\"Shyam\",25,95)\n",
    "    print(student1.name,student1.age,student1._Student__marks)\n",
    "    print(student2.name,student2.age,student2._Student__marks)\n",
    "    \n",
    "if __name__==\"__main__\":\n",
    "    main()"
   ]
  },
  {
   "cell_type": "code",
   "execution_count": 35,
   "id": "51c87030",
   "metadata": {},
   "outputs": [
    {
     "name": "stdout",
     "output_type": "stream",
     "text": [
      "This is for student details example 0.\n",
      "This is for student details example 1.\n",
      "This is for student details example 2. name:- Ram age:- 24\n"
     ]
    }
   ],
   "source": [
    "#constructor types\n",
    "class Student:#default constructor provide bt python\n",
    "    def print_student_details(self):\n",
    "        print(\"This is for student details example 0.\")\n",
    "        \n",
    "class StudentExample1:#constructor with no arguments\n",
    "    def __init__(self):\n",
    "        pass\n",
    "    \n",
    "    def print_student_details(self):\n",
    "        print(\"This is for student details example 1.\")\n",
    "    \n",
    "class StudentExample2:#argument constructor\n",
    "    def  __init__(self,name,age):\n",
    "        self.name=name\n",
    "        self.age=age\n",
    "        \n",
    "    def print_student_details(self):\n",
    "        print(\"This is for student details example 2.\",\"name:-\",self.name,\"age:-\",self.age)\n",
    "        \n",
    "def main():\n",
    "    s1=Student()\n",
    "    s2=StudentExample1()\n",
    "    s3=StudentExample2(\"Ram\",24)\n",
    "    s1.print_student_details()\n",
    "    s2.print_student_details()\n",
    "    s3.print_student_details()\n",
    "    \n",
    "if __name__==\"__main__\":\n",
    "    main()"
   ]
  },
  {
   "cell_type": "code",
   "execution_count": 39,
   "id": "43d7bb9c",
   "metadata": {},
   "outputs": [
    {
     "name": "stdout",
     "output_type": "stream",
     "text": [
      "This is for student details--> name:- Ram age:- 25\n",
      "This is for student details--> name:- Shyam age:- 24\n"
     ]
    }
   ],
   "source": [
    "#default value constructor\n",
    "class Student:\n",
    "    def __init__(self,name,age=24):\n",
    "        self.name=name\n",
    "        self.age=age\n",
    "        \n",
    "    def print_student_details(self):\n",
    "        print(\"This is for student details-->\",\"name:-\",self.name,\"age:-\",self.age)\n",
    "        \n",
    "def main():\n",
    "    s1=Student(\"Ram\",25)\n",
    "    s2=Student(\"Shyam\")\n",
    "    s1.print_student_details()\n",
    "    s2.print_student_details()\n",
    "    \n",
    "main()"
   ]
  },
  {
   "cell_type": "markdown",
   "id": "cab612dc",
   "metadata": {},
   "source": [
    "# Practise"
   ]
  },
  {
   "cell_type": "code",
   "execution_count": 45,
   "id": "726721c3",
   "metadata": {},
   "outputs": [
    {
     "name": "stdout",
     "output_type": "stream",
     "text": [
      "Successfully created\n"
     ]
    }
   ],
   "source": [
    "#1.Create a Animal class without any variables and methods\n",
    "class Animal:\n",
    "    def __init__(self):\n",
    "        pass\n",
    "        \n",
    "def main():\n",
    "    a1=Animal()\n",
    "    print(\"Successfully created\")\n",
    "    \n",
    "if __name__==\"__main__\":\n",
    "    main()"
   ]
  },
  {
   "cell_type": "code",
   "execution_count": 51,
   "id": "e3d4222f",
   "metadata": {},
   "outputs": [
    {
     "name": "stdout",
     "output_type": "stream",
     "text": [
      "Sound:- Roar \tno_of_legs:- 4 \tis_mnivore:- True\n",
      "Sound:- Chatter \tno_of_legs:- 2 \tis_mnivore:- False\n"
     ]
    }
   ],
   "source": [
    "#2.Create a Animal class with attributes sound(string), number_of_legs(integer) and is_omnivore(boolean)\n",
    "class Animal:\n",
    "    def __init__(self,sound,no_of_legs,is_omnivore):\n",
    "        self.sound=sound\n",
    "        self.no_of_legs=no_of_legs\n",
    "        self.is_omnivore=is_omnivore\n",
    "        \n",
    "def main():\n",
    "    a1=Animal(\"Roar\",4,True)\n",
    "    a2=Animal(\"Chatter\",2,False)\n",
    "    print(\"Sound:-\",a1.sound,\"\\tno_of_legs:-\",a1.no_of_legs,\"\\tis_mnivore:-\",a1.is_omnivore)\n",
    "    print(\"Sound:-\",a2.sound,\"\\tno_of_legs:-\",a2.no_of_legs,\"\\tis_mnivore:-\",a2.is_omnivore)\n",
    "    \n",
    "    \n",
    "if __name__==\"__main__\":\n",
    "    main()"
   ]
  },
  {
   "cell_type": "code",
   "execution_count": 62,
   "id": "f3031545",
   "metadata": {},
   "outputs": [
    {
     "name": "stdout",
     "output_type": "stream",
     "text": [
      "Name:- Dog \tCan swim:- True \tNo of legs:- 4\n",
      "Name:- Peacock \tCan swim:- False \tNo of legs:- 2\n",
      "Can swim\n",
      "Name:- Cow \tCan swim:- True \tNo of legs:- 4\n"
     ]
    }
   ],
   "source": [
    "#3.Add a private attribute to the Animal class defined above named can_swim(boolean) and define a getter and setter method \n",
    "#for the same\n",
    "class Animal:\n",
    "    def __init__(self,name,can_swim,no_of_legs=2):\n",
    "        self.name=name\n",
    "        self.__can_swim=can_swim\n",
    "        self.no_of_legs=no_of_legs\n",
    "        \n",
    "    def get_can_swim(self):\n",
    "        return self.__can_swim\n",
    "    \n",
    "    def set_can_swim(self,can_swim):\n",
    "        if self.no_of_legs==2:\n",
    "            print(\"Can't swim\")\n",
    "        else:\n",
    "            self.__can_swim=can_swim\n",
    "            print(\"Can swim\")\n",
    "        \n",
    "def main():\n",
    "    a1=Animal(\"Dog\",True,4)\n",
    "    a2=Animal(\"Peacock\",False)\n",
    "    a3=Animal(\"Cow\",False,4)\n",
    "    print(\"Name:-\",a1.name,\"\\tCan swim:-\",a1.get_can_swim(),\"\\tNo of legs:-\",a1.no_of_legs)\n",
    "    print(\"Name:-\",a2.name,\"\\tCan swim:-\",a2.get_can_swim(),\"\\tNo of legs:-\",a2.no_of_legs)\n",
    "    a3.set_can_swim(True)\n",
    "    print(\"Name:-\",a3.name,\"\\tCan swim:-\",a3.get_can_swim(),\"\\tNo of legs:-\",a3.no_of_legs)\n",
    "\n",
    "   \n",
    "    \n",
    "if __name__==\"__main__\":\n",
    "    main()"
   ]
  },
  {
   "cell_type": "code",
   "execution_count": 65,
   "id": "8ad90a7a",
   "metadata": {},
   "outputs": [
    {
     "name": "stdout",
     "output_type": "stream",
     "text": [
      "Hunts for food:- True\n"
     ]
    }
   ],
   "source": [
    "#4.Define a property for Animal class called hunts_for_food(boolean) that must have the same value for every class instance\n",
    "#(object) equalling true\n",
    "class Animal:\n",
    "    def __init__(self):\n",
    "        self.hunts_for_food=True\n",
    "        \n",
    "def main():\n",
    "    a1=Animal()\n",
    "    print(\"Hunts for food:-\",a1.hunts_for_food)\n",
    "\n",
    "if __name__==\"__main__\":\n",
    "    main()"
   ]
  },
  {
   "cell_type": "code",
   "execution_count": 80,
   "id": "734c07f4",
   "metadata": {},
   "outputs": [
    {
     "name": "stdout",
     "output_type": "stream",
     "text": [
      "3 Objects are created\n"
     ]
    }
   ],
   "source": [
    "#5.Modify the Animal class to count number of instances of the Animal class\n",
    "class Animal:\n",
    "    count=0\n",
    "    def __init__(self):\n",
    "        Animal.count=Animal.count+1\n",
    "\n",
    "def main():\n",
    "    a1=Animal()\n",
    "    a2=Animal()\n",
    "    a3=Animal()\n",
    "    print(Animal.count,\"Objects are created\")\n",
    "\n",
    "if __name__==\"__main__\":\n",
    "    main()"
   ]
  },
  {
   "cell_type": "code",
   "execution_count": 88,
   "id": "a621ba72",
   "metadata": {},
   "outputs": [
    {
     "name": "stdout",
     "output_type": "stream",
     "text": [
      "Tiger\n",
      "Lion\n",
      "Elephant\n",
      "Camel\n",
      "Horse\n"
     ]
    }
   ],
   "source": [
    "#6.Create a list of Animal objects(minimum 5) and then iterate through them and print their attributes\n",
    "class Animal:\n",
    "    def __init__(self,name):\n",
    "        self.name=name\n",
    "\n",
    "def main():\n",
    "    a1=Animal('Tiger')\n",
    "    a2=Animal('Lion')\n",
    "    a3=Animal('Elephant')\n",
    "    a4=Animal('Camel')\n",
    "    a5=Animal('Horse')\n",
    "    list1=[a1,a2,a3,a4,a5]\n",
    "    for i in list1:\n",
    "        print(i.name)\n",
    "        \n",
    "if __name__==\"__main__\":\n",
    "    main()"
   ]
  }
 ],
 "metadata": {
  "kernelspec": {
   "display_name": "Python 3 (ipykernel)",
   "language": "python",
   "name": "python3"
  },
  "language_info": {
   "codemirror_mode": {
    "name": "ipython",
    "version": 3
   },
   "file_extension": ".py",
   "mimetype": "text/x-python",
   "name": "python",
   "nbconvert_exporter": "python",
   "pygments_lexer": "ipython3",
   "version": "3.9.13"
  }
 },
 "nbformat": 4,
 "nbformat_minor": 5
}
